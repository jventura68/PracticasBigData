{
 "cells": [
  {
   "cell_type": "code",
   "execution_count": 9,
   "metadata": {},
   "outputs": [],
   "source": [
    "import json\n",
    "import csv\n"
   ]
  },
  {
   "cell_type": "code",
   "execution_count": 10,
   "metadata": {},
   "outputs": [
    {
     "name": "stdout",
     "output_type": "stream",
     "text": [
      "conversion ok\n"
     ]
    }
   ],
   "source": [
    "def writeMongo(row):\n",
    "    print (row)\n",
    "    \n",
    "def conversion(old):\n",
    "    #\"40°29'21.84'' N\"\n",
    "    grados, minutos, segundos, direction = re.split(u'[°\\'\"\\s]+',old)\n",
    "    #print ('-'.join ([grados,minutos,segundos]))\n",
    "    factor = {'N':1, 'S':-1, 'E': 1, 'W':-1}\n",
    "    res= (int(grados)+int(minutos)/60.0+float(segundos)/3600.0) * factor[direction]\n",
    "    return round(res,7)\n",
    "latLon = conversion (\"78°55'44.295'' N\")\n",
    "if 78.9289708 == latLon :\n",
    "    print (\"conversion ok\")\n",
    "else:\n",
    "    print (latLon)\n"
   ]
  },
  {
   "cell_type": "code",
   "execution_count": 11,
   "metadata": {},
   "outputs": [],
   "source": [
    "jsonCallejero = open ('data/Callejero.json','w')\n",
    "\n",
    "with open ('data/CallejeroUtf8.csv') as fCallejero:\n",
    "        reader = csv.DictReader(fCallejero, delimiter=';')\n",
    "        street = {}\n",
    "        for row in reader:\n",
    "            name = row['VIA_CLASE']+' '+\\\n",
    "                   row['VIA_PAR']+' '+\\\n",
    "                   row['VIA_NOMBRE']\n",
    "            if not 'name' in street:\n",
    "                street['name']= name\n",
    "                street['nums']= []\n",
    "            elif street['name'] != name:\n",
    "                json.dump(street,jsonCallejero)\n",
    "                street = {}\n",
    "                street['name']=name\n",
    "                street['nums']= []\n",
    "            \n",
    "            \"\"\" Miramos si 'num' ya existe en nums para los kilómetros de las carreteras,\n",
    "                porque viene el del sentido de entrada y de salida, solo guardamos el de entrada\n",
    "            \"\"\"\n",
    "            if (len(street['nums'])==0) or (row['NUMERO'] != street['nums'][-1]['num']) :\n",
    "                num = {'num':row['NUMERO'], \"location\":{'type':'Point',\n",
    "                                                        'coordinates':[ conversion(row['LATITUD']),\n",
    "                                                                        conversion(row['LONGITUD'])]}}\n",
    "                street['nums'].append(num)\n",
    "            \n",
    "            \n",
    "        json.dump(street,jsonCallejero)\n",
    "        fCallejero.close()\n",
    "        jsonCallejero.close()\n",
    "        "
   ]
  },
  {
   "cell_type": "code",
   "execution_count": null,
   "metadata": {},
   "outputs": [],
   "source": []
  }
 ],
 "metadata": {
  "kernelspec": {
   "display_name": "Python 3",
   "language": "python",
   "name": "python3"
  },
  "language_info": {
   "codemirror_mode": {
    "name": "ipython",
    "version": 3
   },
   "file_extension": ".py",
   "mimetype": "text/x-python",
   "name": "python",
   "nbconvert_exporter": "python",
   "pygments_lexer": "ipython3",
   "version": "3.6.5"
  }
 },
 "nbformat": 4,
 "nbformat_minor": 2
}
