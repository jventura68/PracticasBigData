{
 "cells": [
  {
   "cell_type": "code",
   "execution_count": null,
   "metadata": {},
   "outputs": [],
   "source": [
    "import json"
   ]
  },
  {
   "cell_type": "code",
   "execution_count": 20,
   "metadata": {},
   "outputs": [
    {
     "name": "stdout",
     "output_type": "stream",
     "text": [
      "{'name': 'Calle Mayor', '1': {'lat': 13, 'lon': 14}, '2': {'lat': 22, 'lon': 22}}\n"
     ]
    }
   ],
   "source": [
    "num={\"lat\":13, \"lon\":14}\n",
    "row={\"name\":\"Calle Mayor\"}\n",
    "row.update( {\"1\":num})\n",
    "num={\"lat\":22, \"lon\":22}\n",
    "row.update ({\"2\":num})\n",
    "\n",
    "print (row)"
   ]
  },
  {
   "cell_type": "code",
   "execution_count": 24,
   "metadata": {},
   "outputs": [
    {
     "name": "stdout",
     "output_type": "stream",
     "text": [
      "dict_values(['Calle Mayor', {'lat': 13, 'lon': 14}, {'lat': 22, 'lon': 22}])\n",
      "dict_keys(['name', '1', '2'])\n"
     ]
    }
   ],
   "source": [
    "print (row.values())\n",
    "print (row.keys())"
   ]
  },
  {
   "cell_type": "code",
   "execution_count": 22,
   "metadata": {},
   "outputs": [
    {
     "data": {
      "text/plain": [
       "{'lat': 22, 'lon': 22}"
      ]
     },
     "execution_count": 22,
     "metadata": {},
     "output_type": "execute_result"
    }
   ],
   "source": [
    "row.get(\"2\")"
   ]
  },
  {
   "cell_type": "code",
   "execution_count": null,
   "metadata": {},
   "outputs": [],
   "source": []
  }
 ],
 "metadata": {
  "kernelspec": {
   "display_name": "Python 3",
   "language": "python",
   "name": "python3"
  },
  "language_info": {
   "codemirror_mode": {
    "name": "ipython",
    "version": 3
   },
   "file_extension": ".py",
   "mimetype": "text/x-python",
   "name": "python",
   "nbconvert_exporter": "python",
   "pygments_lexer": "ipython3",
   "version": "3.7.1"
  }
 },
 "nbformat": 4,
 "nbformat_minor": 2
}
