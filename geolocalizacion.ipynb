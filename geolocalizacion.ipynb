{
 "cells": [
  {
   "cell_type": "code",
   "execution_count": 1,
   "metadata": {},
   "outputs": [
    {
     "name": "stdout",
     "output_type": "stream",
     "text": [
      "SparkContext created\n"
     ]
    }
   ],
   "source": [
    "import pyspark\n",
    "from pyspark.sql import SparkSession\n",
    "app_name = \"bubbly\"\n",
    "master = \"local[*]\"\n",
    "spark = (SparkSession.builder\n",
    "    .master(master)\n",
    "    .config(\"spark.driver.cores\", 1)\n",
    "    .appName(app_name)\n",
    "    .getOrCreate() )\n",
    "sc = spark.sparkContext\n",
    "print ('SparkContext created')"
   ]
  },
  {
   "cell_type": "code",
   "execution_count": 2,
   "metadata": {},
   "outputs": [],
   "source": [
    "# Cargamos el fichero desde hdfs\n",
    "#accidenteData = spark.read.csv ('hdfs://localhost:9000/user/ubuntu/accidentes/2018.csv',header=True)\n",
    "accidenteData = spark.read.csv ('file:///home/ubuntu/Downloads/2018_Accidentalidad.csv',header=True)\n",
    "#accidenteData = spark.read.csv ('file:///home/jose/Descargas/2018.csv',header=True)"
   ]
  },
  {
   "cell_type": "code",
   "execution_count": 18,
   "metadata": {},
   "outputs": [],
   "source": [
    "import pyspark.sql.functions as func\n",
    "from pyspark.sql.types import DoubleType\n",
    "\n",
    "# Reducimos las columnas que tenemos que utilizar mediante la Select\n",
    "# y aplicamos las funciones necesarias a los datos\n",
    "accRed=accidenteData\\\n",
    "    .select(\n",
    "        func.when (\\\n",
    "                (accidenteData['Nº']=='0'),\\\n",
    "#                pone calle 'esquina' calle\n",
    "                func.regexp_replace (accidenteData['LUGAR ACCIDENTE'], '() - ', ' ESQUINA ')\\\n",
    "            )\\\n",
    "            .otherwise(\n",
    "                func.concat (\\\n",
    "                    func.regexp_replace (accidenteData['LUGAR ACCIDENTE'],' NUM\\s*$',' '), \\\n",
    "                    accidenteData['Nº'], \\\n",
    "                    func.lit(', MADRID, SPAIN')\\\n",
    "                )\\\n",
    "            )\\\n",
    "            .alias('direccion') ,\\\n",
    "#        func.when (\\\n",
    "#                (accidenteData['Nº']=='0'),\\\n",
    "#                None\\\n",
    "#            )\\\n",
    "#            .when (\\\n",
    "#                (accidenteData['LUGAR ACCIDENTE'].contains (' KM.')) & \\\n",
    "#                (accidenteData['Nº'].cast(DoubleType()) > 100) ,\\\n",
    "#                accidenteData['Nº'].cast(DoubleType()) / 1000\\\n",
    "#            )\\\n",
    "#            .otherwise(accidenteData['Nº'].cast(DoubleType()))\\\n",
    "#            .alias('numNorm') ,\\\n",
    "        accidenteData['LUGAR ACCIDENTE'].alias('calle'),\\\n",
    "        accidenteData['Nº'].alias('num')\\\n",
    "    )\\\n",
    "    .dropDuplicates ()\n",
    "\n"
   ]
  },
  {
   "cell_type": "markdown",
   "metadata": {},
   "source": [
    "### Para geolocalizar las direcciones utilizamos la libreria geocoder de python.\n",
    "### Se instala con el comando \"pip install geocoder\""
   ]
  },
  {
   "cell_type": "code",
   "execution_count": 29,
   "metadata": {},
   "outputs": [],
   "source": [
    "import geocoder\n",
    "from pyspark.sql.types import StringType, MapType\n",
    "\n",
    "g=geocoder.osm('calle de dolores barranco 44, madrid, spain')\n",
    "def getGeo (address):\n",
    "    geo = geocoder.osm (address)\n",
    "    return geo.osm\n",
    "\n",
    "func_getGeo = func.udf (getGeo,IntegerType())\n",
    "\n"
   ]
  },
  {
   "cell_type": "code",
   "execution_count": 30,
   "metadata": {},
   "outputs": [
    {
     "data": {
      "text/html": [
       "<div>\n",
       "<style scoped>\n",
       "    .dataframe tbody tr th:only-of-type {\n",
       "        vertical-align: middle;\n",
       "    }\n",
       "\n",
       "    .dataframe tbody tr th {\n",
       "        vertical-align: top;\n",
       "    }\n",
       "\n",
       "    .dataframe thead th {\n",
       "        text-align: right;\n",
       "    }\n",
       "</style>\n",
       "<table border=\"1\" class=\"dataframe\">\n",
       "  <thead>\n",
       "    <tr style=\"text-align: right;\">\n",
       "      <th></th>\n",
       "      <th>direccion</th>\n",
       "    </tr>\n",
       "  </thead>\n",
       "  <tbody>\n",
       "    <tr>\n",
       "      <th>0</th>\n",
       "      <td>CALLE  MAYOR ESQUINA PLAZA DEL COMANDANTE LAS ...</td>\n",
       "    </tr>\n",
       "    <tr>\n",
       "      <th>1</th>\n",
       "      <td>CALLE DEL PRINCIPE CARLOS 23, MADRID, SPAIN</td>\n",
       "    </tr>\n",
       "    <tr>\n",
       "      <th>2</th>\n",
       "      <td>CALLE DE LAS MARISMAS ESQUINA CALLE DE MARUJA ...</td>\n",
       "    </tr>\n",
       "    <tr>\n",
       "      <th>3</th>\n",
       "      <td>CALLE DE VELAZQUEZ 17, MADRID, SPAIN</td>\n",
       "    </tr>\n",
       "    <tr>\n",
       "      <th>4</th>\n",
       "      <td>CALLE DE CARLINA 10, MADRID, SPAIN</td>\n",
       "    </tr>\n",
       "    <tr>\n",
       "      <th>5</th>\n",
       "      <td>CALLE DE CASTELLO 95, MADRID, SPAIN</td>\n",
       "    </tr>\n",
       "    <tr>\n",
       "      <th>6</th>\n",
       "      <td>CALLE DE VILLALONSO 47, MADRID, SPAIN</td>\n",
       "    </tr>\n",
       "    <tr>\n",
       "      <th>7</th>\n",
       "      <td>CALLE DE JORGE JUAN 59, MADRID, SPAIN</td>\n",
       "    </tr>\n",
       "    <tr>\n",
       "      <th>8</th>\n",
       "      <td>CALLE DE GERMAN PEREZ CARRASCO 27, MADRID, SPAIN</td>\n",
       "    </tr>\n",
       "    <tr>\n",
       "      <th>9</th>\n",
       "      <td>CALLE DE SEGOVIA 26, MADRID, SPAIN</td>\n",
       "    </tr>\n",
       "  </tbody>\n",
       "</table>\n",
       "</div>"
      ],
      "text/plain": [
       "                                           direccion\n",
       "0  CALLE  MAYOR ESQUINA PLAZA DEL COMANDANTE LAS ...\n",
       "1        CALLE DEL PRINCIPE CARLOS 23, MADRID, SPAIN\n",
       "2  CALLE DE LAS MARISMAS ESQUINA CALLE DE MARUJA ...\n",
       "3               CALLE DE VELAZQUEZ 17, MADRID, SPAIN\n",
       "4                 CALLE DE CARLINA 10, MADRID, SPAIN\n",
       "5                CALLE DE CASTELLO 95, MADRID, SPAIN\n",
       "6              CALLE DE VILLALONSO 47, MADRID, SPAIN\n",
       "7              CALLE DE JORGE JUAN 59, MADRID, SPAIN\n",
       "8   CALLE DE GERMAN PEREZ CARRASCO 27, MADRID, SPAIN\n",
       "9                 CALLE DE SEGOVIA 26, MADRID, SPAIN"
      ]
     },
     "execution_count": 30,
     "metadata": {},
     "output_type": "execute_result"
    }
   ],
   "source": [
    "g.osm\n",
    "aux = accRed.select(\"direccion\").limit(10).toPandas()\n",
    "aux"
   ]
  },
  {
   "cell_type": "code",
   "execution_count": 31,
   "metadata": {},
   "outputs": [],
   "source": [
    "aux = accRed.limit(10)\n",
    "accGeo = aux.withColumn('coordenadas',func_getGeo(accRed.direccion))\n"
   ]
  },
  {
   "cell_type": "code",
   "execution_count": 35,
   "metadata": {},
   "outputs": [
    {
     "data": {
      "text/plain": [
       "float"
      ]
     },
     "execution_count": 35,
     "metadata": {},
     "output_type": "execute_result"
    }
   ],
   "source": [
    "g=geocoder.osm('CALLE DEL PRINCIPE CARLOS 23, MADRID, SPAIN')\n",
    "g.latlng\n",
    "type (g.latlng[0])\n"
   ]
  },
  {
   "cell_type": "code",
   "execution_count": 33,
   "metadata": {},
   "outputs": [
    {
     "name": "stdout",
     "output_type": "stream",
     "text": [
      "+--------------------+--------------------+---+-----------+\n",
      "|           direccion|               calle|num|coordenadas|\n",
      "+--------------------+--------------------+---+-----------+\n",
      "|CALLE  MAYOR ESQU...|CALLE  MAYOR - PL...|  0|       null|\n",
      "|CALLE DEL PRINCIP...|CALLE DEL PRINCIP...| 23|       null|\n",
      "|CALLE DE LAS MARI...|CALLE DE LAS MARI...|  0|       null|\n",
      "|CALLE DE VELAZQUE...|CALLE DE VELAZQUE...| 17|       null|\n",
      "|CALLE DE CARLINA ...|CALLE DE CARLINA ...| 10|       null|\n",
      "|CALLE DE CASTELLO...|CALLE DE CASTELLO...| 95|       null|\n",
      "|CALLE DE VILLALON...|CALLE DE VILLALON...| 47|       null|\n",
      "|CALLE DE JORGE JU...|CALLE DE JORGE JU...| 59|       null|\n",
      "|CALLE DE GERMAN P...|CALLE DE GERMAN P...| 27|       null|\n",
      "|CALLE DE SEGOVIA ...|CALLE DE SEGOVIA ...| 26|       null|\n",
      "+--------------------+--------------------+---+-----------+\n",
      "\n"
     ]
    }
   ],
   "source": [
    "accGeo.show()"
   ]
  },
  {
   "cell_type": "code",
   "execution_count": null,
   "metadata": {},
   "outputs": [],
   "source": []
  }
 ],
 "metadata": {
  "kernelspec": {
   "display_name": "Python 3",
   "language": "python",
   "name": "python3"
  },
  "language_info": {
   "codemirror_mode": {
    "name": "ipython",
    "version": 3
   },
   "file_extension": ".py",
   "mimetype": "text/x-python",
   "name": "python",
   "nbconvert_exporter": "python",
   "pygments_lexer": "ipython3",
   "version": "3.6.5"
  }
 },
 "nbformat": 4,
 "nbformat_minor": 2
}
