{
 "cells": [
  {
   "cell_type": "code",
   "execution_count": 4,
   "metadata": {},
   "outputs": [],
   "source": [
    "import json\n",
    "import csv\n",
    "import re\n"
   ]
  },
  {
   "cell_type": "code",
   "execution_count": 24,
   "metadata": {},
   "outputs": [
    {
     "name": "stdout",
     "output_type": "stream",
     "text": [
      "conversion ok\n",
      "es un cafe\n"
     ]
    }
   ],
   "source": [
    "def writeMongo(row):\n",
    "    print (row)\n",
    "    \n",
    "def conversion(old):\n",
    "    #\"40°29'21.84'' N\"\n",
    "    grados, minutos, segundos, direction = re.split(u'[°\\'\"\\s]+',old)\n",
    "    #print ('-'.join ([grados,minutos,segundos]))\n",
    "    factor = {'N':1, 'S':-1, 'E': 1, 'W':-1}\n",
    "    res= (int(grados)+int(minutos)/60.0+float(segundos)/3600.0) * factor[direction]\n",
    "    return round(res,7)\n",
    "latLon = conversion (\"78°55'44.295'' N\")\n",
    "if 78.9289708 == latLon :\n",
    "    print (\"conversion ok\")\n",
    "else:\n",
    "    print (latLon)\n",
    "\n",
    "from unidecode import unidecode\n",
    "\n",
    "\n",
    "def normalize(cadena):\n",
    "    return unidecode(cadena.lower())\n",
    "\n",
    "string_acentos = 'Ës un cáfÉ'\n",
    "\n",
    "print (normalize(string_acentos))\n",
    "\n"
   ]
  },
  {
   "cell_type": "code",
   "execution_count": 29,
   "metadata": {},
   "outputs": [
    {
     "name": "stdout",
     "output_type": "stream",
     "text": [
      "total registros: 8443\n"
     ]
    }
   ],
   "source": [
    "jsonCallejero = open ('data/PermisosMadridTratado.csv','w')\n",
    "\n",
    "i=0\n",
    "\n",
    "with open ('data/PermisosMadrid.csv') as permisosIn:\n",
    "        reader = csv.DictReader(permisosIn)\n",
    "        for row in reader:\n",
    "            rowOut = row\n",
    "            for permiso in row['GRUPO PERMISOS']:\n",
    "                rowOut = row\n",
    "            name = row['VIA_CLASE']+' '+\\\n",
    "                   (\"\" if len(row['VIA_PAR'])==0 else row['VIA_PAR']+' ') +\\\n",
    "                   row['VIA_NOMBRE']\n",
    "            name = normalize(name)\n",
    "            if not 'name' in street:\n",
    "                street['name']= name\n",
    "                street['nums']= []\n",
    "            elif street['name'] != name:\n",
    "                json.dump(street,jsonCallejero)\n",
    "                jsonCallejero.write('\\n')\n",
    "                i+=1\n",
    "                street = {}\n",
    "                street['name']=name\n",
    "                street['nums']= []\n",
    "            \n",
    "            \"\"\" Miramos si 'num' ya existe en nums para los kilómetros de las carreteras,\n",
    "                porque viene el del sentido de entrada y de salida, solo guardamos el de entrada\n",
    "            \"\"\"\n",
    "            if (len(street['nums'])==0) or (row['NUMERO'] != street['nums'][-1]['num']) :\n",
    "                num = {'num':row['NUMERO'], \"location\":{'type':'Point',\n",
    "                                                        'coordinates':[ conversion(row['LATITUD']),\n",
    "                                                                        conversion(row['LONGITUD'])]}}\n",
    "                street['nums'].append(num)\n",
    "        json.dump(street,jsonCallejero)\n",
    "        jsonCallejero.write('\\n')\n",
    "        i+=1\n",
    "        fCallejero.close()\n",
    "        jsonCallejero.close()\n",
    "        \n",
    "        print ('total registros: {}'.format(i))\n",
    "        "
   ]
  },
  {
   "cell_type": "markdown",
   "metadata": {},
   "source": [
    "Con el fichero recultante de paso anterior lo importamos a Mongo en una instancia en Cloud de mongoDB.Atlas\n",
    "```bash \n",
    "mongoimport --uri \"mongodb+srv://sparkUser:<pass>@cluster0-emtpq.mongodb.net/test\" --collection Callejero --drop --file Callejero.json\n",
    "    \n",
    "2019-04-24T16:21:39.496+0200    connected to: localhost\n",
    "2019-04-24T16:21:39.535+0200    dropping: test.callejero\n",
    "2019-04-24T16:21:42.154+0200    [########................] test.callejero       5.76MB/15.6MB (37.0%)\n",
    "2019-04-24T16:21:45.155+0200    [####################....] test.callejero       13.3MB/15.6MB (85.3%)\n",
    "2019-04-24T16:21:46.217+0200    [########################] test.callejero       15.6MB/15.6MB (100.0%)\n",
    "2019-04-24T16:21:46.217+0200    imported 8443 documents\n",
    "```\n",
    "\n",
    "Posteriomente, mediante las utilidades de administración de la plataforma creamos un índice por el campo 'name' de tipo texto."
   ]
  },
  {
   "cell_type": "markdown",
   "metadata": {},
   "source": [
    "Los registros en la colección test.callejero tienen el siguiente formato:\n",
    "```json\n",
    "{\n",
    "\"_id\":{\"$oid\":\"5cc070f406ee493b07be37d2\"},\n",
    "\"name\":\"calle de la abadesa\",\n",
    "\"nums\":[\n",
    "   {\"num\":\"1\",\"location\":{\"type\":\"Point\",\n",
    "                          \"coordinates\":[{\"$numberDouble\":\"40.4645222\"},{\"$numberDouble\":\"-3.7145222\"}]}},\n",
    "   {\"num\":\"3\",\"location\":{\"type\":\"Point\",\n",
    "                          \"coordinates\":[{\"$numberDouble\":\"40.4645778\"},{\"$numberDouble\":\"-3.7145778\"}]}},\n",
    "   {\"num\":\"5\",\"location\":{\"type\":\"Point\",\n",
    "                          \"coordinates\":[{\"$numberDouble\":\"40.4647167\"},{\"$numberDouble\":\"-3.7147167\"}]}},\n",
    "    ...\n",
    "}\n",
    "```\n",
    "\n",
    "Hay que remarcar que el campo \"location\" es del tipo geoJson. Con el se harán cálculos de distancias para la geolocalización de las esquinas entre calles."
   ]
  },
  {
   "cell_type": "code",
   "execution_count": null,
   "metadata": {},
   "outputs": [],
   "source": []
  }
 ],
 "metadata": {
  "kernelspec": {
   "display_name": "Python 3",
   "language": "python",
   "name": "python3"
  },
  "language_info": {
   "codemirror_mode": {
    "name": "ipython",
    "version": 3
   },
   "file_extension": ".py",
   "mimetype": "text/x-python",
   "name": "python",
   "nbconvert_exporter": "python",
   "pygments_lexer": "ipython3",
   "version": "3.6.5"
  }
 },
 "nbformat": 4,
 "nbformat_minor": 2
}
