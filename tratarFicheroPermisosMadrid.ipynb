{
 "cells": [
  {
   "cell_type": "markdown",
   "metadata": {},
   "source": [
    "# Fichero de permisos\n",
    "\n",
    "## Origen\n",
    "Fichero obtenido de la DGT\n",
    "## Tratamiento\n",
    "El fichero contiene la cantidad de permisos emitidos por año y por tramo de edad.\n",
    "\n",
    "<code>\n",
    "FECHA CENSO,ANYO_EXPEDICION,MUNICIPIO,SEXO,GRUPO PERMISOS,HASTA 18,DE 19 A 24,.....,DE 65 A 74,MÁS DE 74,Total\n",
    "11/03/2019 ,2000           ,Madrid   ,M   ,B             ,0       ,1         ,.....,64.705    ,14.588   ,358610\n",
    "11/03/2019 ,2000           ,Madrid   ,M   ,\"B,A,A2\"      ,0       ,0         ,.....,1.561     ,4.410    ,13612\n",
    "...\n",
    "11/03/2019 ,2001           ,Madrid   ,M   ,B             ,0       ,0         ,.... ,126       ,11       ,13135\n",
    "11/03/2019 ,2001           ,Madrid   ,M   ,\"B,A,A2\"      ,0       ,0         ,.... ,0         ,0        ,158\n",
    "</code>\n",
    "Para poder tratarlo tenemos que desglosar los tipos de permisos e ir acumulando los emitidos por año para tener\n",
    "el total de permisos vigentes en cada año\n"
   ]
  },
  {
   "cell_type": "code",
   "execution_count": 1,
   "metadata": {},
   "outputs": [],
   "source": [
    "import csv\n",
    "import pandas as pd\n",
    "import numpy as np"
   ]
  },
  {
   "cell_type": "code",
   "execution_count": 2,
   "metadata": {},
   "outputs": [],
   "source": [
    "\"\"\"\n",
    "Leemos el fichero csv y lo cargamos en un diccionario por sexo, permiso y año\n",
    "en la propia lectura separamos los grupos de permisos\n",
    "\"\"\"\n",
    "\n",
    "acum = {}\n",
    "with open ('data/permisosMadrid.csv',encoding=\"ISO-8859-1\") as permisosIn:\n",
    "        reader = csv.DictReader(permisosIn)\n",
    "        for row in reader:\n",
    "            for permiso in row['GRUPO PERMISOS'].split(','):\n",
    "                if not '+E' in permiso and len(permiso.strip())>0: #Algunos terminan en ',' y generan permiso vacío\n",
    "                    row['GRUPO PERMISOS']=permiso\n",
    "                    anyo = row['ANYO_EXPEDICION']\n",
    "                    total = int(row['Total'])\n",
    "                    sexo = row['SEXO']\n",
    "\n",
    "                    if not sexo in acum:\n",
    "                        acum[sexo]={}\n",
    "                        #print ('acum {}'.format(sexo))\n",
    "                    if not permiso in acum[sexo]:\n",
    "                        acum[sexo][permiso]={}\n",
    "                        #print ('acum {} {}'.format(sexo, anyo))\n",
    "                    if not anyo in acum[sexo][permiso]:\n",
    "                        acum[sexo][permiso][anyo]=total\n",
    "                    else:\n",
    "                        acum [sexo][permiso][anyo] += total\n",
    "                        #print ('--> total {} acum {}'.format(total, acum[sexo][anyo][permiso]))\n",
    "\n",
    "permisosIn.close()\n"
   ]
  },
  {
   "cell_type": "code",
   "execution_count": 3,
   "metadata": {},
   "outputs": [],
   "source": [
    "\"\"\"\n",
    "Tratamos el diccionario para ir sumando los valores de los sucesivos años y tener\n",
    "los vigentes en cada año en lugar de los emitidos.\n",
    "\"\"\"\n",
    "\n",
    "for sexo in [*acum]:\n",
    "    for permiso in [*acum[sexo]]:\n",
    "        for anyo in [*acum[sexo][permiso]]:\n",
    "            if anyo == '2000':\n",
    "                tot = acum [sexo][permiso][anyo]\n",
    "            else:\n",
    "                acum [sexo][permiso][anyo] += tot\n",
    "                tot = acum [sexo][permiso][anyo]\n"
   ]
  },
  {
   "cell_type": "code",
   "execution_count": 4,
   "metadata": {},
   "outputs": [],
   "source": [
    "\"\"\"\n",
    "Grabamos el diccionario en un fichero csv para poder tratarlo en Tableau\n",
    "\"\"\"\n",
    "\n",
    "with open('data/permisosAcumulados.csv','w') as f:\n",
    "    w = csv.DictWriter(f, ['sexo','permiso','anyo','total'])\n",
    "    w.writeheader()\n",
    "    for sexo in [*acum]:\n",
    "        for permiso in [*acum[sexo]]:\n",
    "            for anyo in [*acum[sexo][permiso]]:\n",
    "                w.writerow ({'sexo':sexo,'permiso':permiso,'anyo':anyo,'total':acum[sexo][permiso][anyo]})\n"
   ]
  },
  {
   "cell_type": "code",
   "execution_count": null,
   "metadata": {},
   "outputs": [],
   "source": []
  }
 ],
 "metadata": {
  "kernelspec": {
   "display_name": "Python 3",
   "language": "python",
   "name": "python3"
  },
  "language_info": {
   "codemirror_mode": {
    "name": "ipython",
    "version": 3
   },
   "file_extension": ".py",
   "mimetype": "text/x-python",
   "name": "python",
   "nbconvert_exporter": "python",
   "pygments_lexer": "ipython3",
   "version": "3.7.1"
  }
 },
 "nbformat": 4,
 "nbformat_minor": 2
}
