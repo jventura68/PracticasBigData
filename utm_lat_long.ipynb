{
 "cells": [
  {
   "cell_type": "markdown",
   "metadata": {
    "id": "GM5s5e0oo5h5"
   },
   "source": [
    "### Pasar de UTM-ETRS89 a latitud longitud etrs89\n",
    "\n",
    "UTM WGS84 es lo mismo que ETRS 89  \n",
    "En España se utiliza la zona 30, y a la función le indicamos que estamos en el hemisferio norte\n",
    "\n",
    "La función permite pasar las coordenadas UTMX_ETRS y UTMY_ETRS del fichero del callejero de madrid a latitud, longitud ETRS89. La lat/long que tiene el callejero de madrid es del datum ED50 y no es representable en google maps u open street map.\n",
    "\n",
    "[Callejero oficial](https://datos.madrid.es/egob/catalogo/213605-3-callejero-oficial-madrid.csv)"
   ]
  },
  {
   "cell_type": "code",
   "execution_count": 7,
   "metadata": {
    "id": "jQfOCiZInOYf"
   },
   "outputs": [],
   "source": [
    "from pyproj import Proj"
   ]
  },
  {
   "cell_type": "code",
   "execution_count": 22,
   "metadata": {
    "colab": {
     "base_uri": "https://localhost:8080/",
     "height": 374
    },
    "id": "gnZtvB6ArzPg",
    "outputId": "58e32c48-9645-4f6c-bd66-b78413f00807"
   },
   "outputs": [],
   "source": [
    "myProj = Proj(\"+proj=utm +zone=30K, +north +ellps=WGS84 +datum=WGS84 +units=m +no_defs\")"
   ]
  },
  {
   "cell_type": "code",
   "execution_count": 24,
   "metadata": {},
   "outputs": [
    {
     "name": "stdout",
     "output_type": "stream",
     "text": [
      "Principe de Vergara, 156 --> lat/long etrs89 zona 30: 40.448504811793306, -3.6775449914731406\n"
     ]
    }
   ],
   "source": [
    "long, lat = myProj(442544.91,  4477759.2, inverse=True)\n",
    "print (f'Principe de Vergara, 156 --> lat/long etrs89 zona 30: {lat}, {long}')"
   ]
  },
  {
   "cell_type": "code",
   "execution_count": null,
   "metadata": {},
   "outputs": [],
   "source": []
  }
 ],
 "metadata": {
  "colab": {
   "name": "Maps.ipynb",
   "provenance": []
  },
  "kernelspec": {
   "display_name": "c-python-stem",
   "language": "python",
   "name": "c-python-stem"
  },
  "language_info": {
   "codemirror_mode": {
    "name": "ipython",
    "version": 3
   },
   "file_extension": ".py",
   "mimetype": "text/x-python",
   "name": "python",
   "nbconvert_exporter": "python",
   "pygments_lexer": "ipython3",
   "version": "3.9.2"
  }
 },
 "nbformat": 4,
 "nbformat_minor": 4
}
