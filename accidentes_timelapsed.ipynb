{
 "cells": [
  {
   "cell_type": "code",
   "execution_count": 1,
   "metadata": {},
   "outputs": [
    {
     "name": "stdout",
     "output_type": "stream",
     "text": [
      "SparkContext created\n"
     ]
    }
   ],
   "source": [
    "import pyspark\n",
    "from pyspark.sql import SparkSession\n",
    "app_name = \"bubbly\"\n",
    "master = \"local[*]\"\n",
    "spark = (SparkSession.builder\n",
    "    .master(master)\n",
    "    .config(\"spark.driver.cores\", 1)\n",
    "    .appName(app_name)\n",
    "    .getOrCreate() )\n",
    "sc = spark.sparkContext\n",
    "print ('SparkContext created')"
   ]
  },
  {
   "cell_type": "code",
   "execution_count": 2,
   "metadata": {},
   "outputs": [],
   "source": [
    "from pyspark.sql.types import StructType, StructField, IntegerType, DateType, StringType\n",
    "\n",
    "accidenteSchema = StructType ([\n",
    "    StructField(\"Index\", IntegerType(), True),\n",
    "    StructField(\"FECHA\", DateType(), True),\n",
    "    StructField(\"RANGO HORARIO\", StringType(), True),\n",
    "    StructField(\"DIA SEMANA\", StringType(), True),\n",
    "    StructField(\"DISTRITO\", StringType(), True),\n",
    "    StructField(\"LUGAR ACCIDENTE\", StringType(), True),\n",
    "    StructField(\"Nº\", StringType(), True),\n",
    "    StructField(\"Nº PARTE\", StringType(), True),\n",
    "    StructField(\"CPFA Granizo\", StringType(), True),\n",
    "    StructField(\"CPFA Hielo\", StringType(), True),\n",
    "    StructField(\"CPFA Lluvia\", StringType(), True),\n",
    "    StructField(\"CPFA Niebla\", StringType(), True),\n",
    "    StructField(\"CPFA Seco\", StringType(), True),\n",
    "    StructField(\"CPFA Nieve\", StringType(), True),\n",
    "    StructField(\"CPSV Mojada\", StringType(), True),\n",
    "    StructField(\"CPSV Aceite\", StringType(), True),\n",
    "    StructField(\"CPSV Barro\", StringType(), True),\n",
    "    StructField(\"CPSV Grava Suelta\", StringType(), True),\n",
    "    StructField(\"CPSV Hielo\", StringType(), True),\n",
    "    StructField(\"CPSV Seca Y Limpia\", StringType(), True),\n",
    "    StructField(\"* Nº VICTIMAS\", IntegerType(), True),\n",
    "    StructField(\"TIPO ACCIDENTE\", StringType(), True),\n",
    "    StructField(\"Tipo Vehiculo\", StringType(), True),\n",
    "    StructField(\"TIPO PERSONA\", StringType(), True),\n",
    "    StructField(\"SEXO\", StringType(), True),\n",
    "    StructField(\"LESIVIDAD\", StringType(), True),\n",
    "    StructField(\"Tramo Edad\", StringType(), True)])\n",
    "\n",
    "#accidenteData = spark.read.csv ('hdfs://localhost:9000/user/ubuntu/accidentes/2018.csv',header=True)#,schema=accidenteSchema)\n",
    "#accidenteData = spark.read.csv ('file:///home/jose/tmp/2018.csv',header=True,sep=\",\",schema=accidenteSchema)\n",
    "accidenteData = spark.read.csv ('file:///home/ubuntu/Downloads/2018_Accidentalidad.csv',header=True,sep=\",\",schema=accidenteSchema)\n",
    "#hdfs://localhost:9000/users/ubuntu/accidentes/2018.csv\n",
    "\n",
    "#accidenteData = spark.read.format(\"csv\")\\\n",
    "#             .option(\"delimiter\",\",\")\\\n",
    "#             .option(\"header\", \"true\")\\\n",
    "#             .schema(accidenteSchema)\\\n",
    "#             .option(\"quote\",\"\")\\\n",
    "#             .load('file:///home/ubuntu/Downloads/2018_Accidentalidad.csv')\n"
   ]
  },
  {
   "cell_type": "code",
   "execution_count": 3,
   "metadata": {
    "scrolled": false
   },
   "outputs": [
    {
     "name": "stdout",
     "output_type": "stream",
     "text": [
      "root\n",
      " |-- Index: integer (nullable = true)\n",
      " |-- FECHA: date (nullable = true)\n",
      " |-- RANGO HORARIO: string (nullable = true)\n",
      " |-- DIA SEMANA: string (nullable = true)\n",
      " |-- DISTRITO: string (nullable = true)\n",
      " |-- LUGAR ACCIDENTE: string (nullable = true)\n",
      " |-- Nº: string (nullable = true)\n",
      " |-- Nº PARTE: string (nullable = true)\n",
      " |-- CPFA Granizo: string (nullable = true)\n",
      " |-- CPFA Hielo: string (nullable = true)\n",
      " |-- CPFA Lluvia: string (nullable = true)\n",
      " |-- CPFA Niebla: string (nullable = true)\n",
      " |-- CPFA Seco: string (nullable = true)\n",
      " |-- CPFA Nieve: string (nullable = true)\n",
      " |-- CPSV Mojada: string (nullable = true)\n",
      " |-- CPSV Aceite: string (nullable = true)\n",
      " |-- CPSV Barro: string (nullable = true)\n",
      " |-- CPSV Grava Suelta: string (nullable = true)\n",
      " |-- CPSV Hielo: string (nullable = true)\n",
      " |-- CPSV Seca Y Limpia: string (nullable = true)\n",
      " |-- * Nº VICTIMAS: integer (nullable = true)\n",
      " |-- TIPO ACCIDENTE: string (nullable = true)\n",
      " |-- Tipo Vehiculo: string (nullable = true)\n",
      " |-- TIPO PERSONA: string (nullable = true)\n",
      " |-- SEXO: string (nullable = true)\n",
      " |-- LESIVIDAD: string (nullable = true)\n",
      " |-- Tramo Edad: string (nullable = true)\n",
      "\n"
     ]
    }
   ],
   "source": [
    "accidenteData.printSchema()\n",
    "#accidenteData.show()"
   ]
  },
  {
   "cell_type": "code",
   "execution_count": 4,
   "metadata": {},
   "outputs": [],
   "source": [
    "import pyspark.sql.functions as func\n",
    "\n",
    "accRed=accidenteData.select(\n",
    "        func.substring(accidenteData.LESIVIDAD,1,2).alias('lesividad'), \\\n",
    "        accidenteData[\"DIA SEMANA\"].alias('diaStr'), \\\n",
    "        accidenteData[\"SEXO\"].alias('sexo'), \\\n",
    "        accidenteData[\"RANGO HORARIO\"].alias('tramoHora'), \\\n",
    "        accidenteData[\"Tramo Edad\"].alias('tramoEdad'), \\\n",
    "        accidenteData.DISTRITO.alias('distrito'), \\\n",
    "        accidenteData['* Nº VICTIMAS'].cast(IntegerType()).alias('victimas')\n",
    ")\n",
    "\n",
    "accPorDia=accRed.filter(accRed.lesividad != \"IL\")\\\n",
    "                .groupBy('tramoEdad', 'diaStr','tramoHora','sexo')\\\n",
    "                .agg(func.sum('victimas')\\\n",
    "                .alias('TotalVictimas'))"
   ]
  },
  {
   "cell_type": "code",
   "execution_count": 5,
   "metadata": {},
   "outputs": [],
   "source": [
    "accPorDia = accPorDia.withColumn(\"NumDia\",func.when(accPorDia.diaStr == 'LUNES',1)\n",
    "                                                 .when(accPorDia.diaStr == 'MARTES',2)\n",
    "                                                 .when(accPorDia.diaStr == 'MIERCOLES',3)\n",
    "                                                 .when(accPorDia.diaStr == 'JUEVES',4)\n",
    "                                                 .when(accPorDia.diaStr == 'VIERNES',5)\n",
    "                                                 .when(accPorDia.diaStr == 'SABADO',6)\n",
    "                                                 .otherwise(7)).orderBy('NumDia')\n"
   ]
  },
  {
   "cell_type": "code",
   "execution_count": 6,
   "metadata": {},
   "outputs": [
    {
     "name": "stdout",
     "output_type": "stream",
     "text": [
      "root\n",
      " |-- tramoEdad: string (nullable = true)\n",
      " |-- diaStr: string (nullable = true)\n",
      " |-- tramoHora: string (nullable = true)\n",
      " |-- sexo: string (nullable = true)\n",
      " |-- TotalVictimas: long (nullable = true)\n",
      " |-- NumDia: integer (nullable = false)\n",
      "\n"
     ]
    }
   ],
   "source": [
    "#accPorDiaNum = accPorDia.withColumn(\"NumDia\",diasSemana[accPorDia['DIA SEMANA']])\n",
    "accPorDia.printSchema()\n",
    "#accPorDia.show()\n"
   ]
  },
  {
   "cell_type": "code",
   "execution_count": 7,
   "metadata": {},
   "outputs": [],
   "source": [
    "import pandas as pd\n",
    "pdAccPorDia = accPorDia.toPandas()\n",
    "\n",
    "dias = {\n",
    "    'LUNES':1,\n",
    "    'MARTES':2,\n",
    "    'MIERCOLES':3,\n",
    "    'JUEVES':4,\n",
    "    'VIERNES':5,\n",
    "    'SABADO':6,\n",
    "    'DOMINGO':7\n",
    "}"
   ]
  },
  {
   "cell_type": "code",
   "execution_count": 26,
   "metadata": {},
   "outputs": [
    {
     "name": "stdout",
     "output_type": "stream",
     "text": [
      "tramoEdad\n",
      "diaStr\n",
      "tramoHora\n",
      "sexo\n",
      "TotalVictimas\n",
      "NumDia\n"
     ]
    }
   ],
   "source": [
    "i=1\n",
    "for row in pdAccPorDia:\n",
    "    print (row)\n",
    "    "
   ]
  },
  {
   "cell_type": "code",
   "execution_count": 8,
   "metadata": {},
   "outputs": [
    {
     "ename": "ValueError",
     "evalue": "Cannot set a frame with no defined index and a value that cannot be converted to a Series",
     "output_type": "error",
     "traceback": [
      "\u001b[0;31m---------------------------------------------------------------------------\u001b[0m",
      "\u001b[0;31mValueError\u001b[0m                                Traceback (most recent call last)",
      "\u001b[0;32m~/anaconda3/lib/python3.6/site-packages/pandas/core/frame.py\u001b[0m in \u001b[0;36m_ensure_valid_index\u001b[0;34m(self, value)\u001b[0m\n\u001b[1;32m   3423\u001b[0m             \u001b[0;32mtry\u001b[0m\u001b[0;34m:\u001b[0m\u001b[0;34m\u001b[0m\u001b[0m\n\u001b[0;32m-> 3424\u001b[0;31m                 \u001b[0mvalue\u001b[0m \u001b[0;34m=\u001b[0m \u001b[0mSeries\u001b[0m\u001b[0;34m(\u001b[0m\u001b[0mvalue\u001b[0m\u001b[0;34m)\u001b[0m\u001b[0;34m\u001b[0m\u001b[0m\n\u001b[0m\u001b[1;32m   3425\u001b[0m             \u001b[0;32mexcept\u001b[0m \u001b[0;34m(\u001b[0m\u001b[0mValueError\u001b[0m\u001b[0;34m,\u001b[0m \u001b[0mNotImplementedError\u001b[0m\u001b[0;34m,\u001b[0m \u001b[0mTypeError\u001b[0m\u001b[0;34m)\u001b[0m\u001b[0;34m:\u001b[0m\u001b[0;34m\u001b[0m\u001b[0m\n",
      "\u001b[0;32m~/anaconda3/lib/python3.6/site-packages/pandas/core/series.py\u001b[0m in \u001b[0;36m__init__\u001b[0;34m(self, data, index, dtype, name, copy, fastpath)\u001b[0m\n\u001b[1;32m    263\u001b[0m \u001b[0;34m\u001b[0m\u001b[0m\n\u001b[0;32m--> 264\u001b[0;31m                 \u001b[0mdata\u001b[0m \u001b[0;34m=\u001b[0m \u001b[0mSingleBlockManager\u001b[0m\u001b[0;34m(\u001b[0m\u001b[0mdata\u001b[0m\u001b[0;34m,\u001b[0m \u001b[0mindex\u001b[0m\u001b[0;34m,\u001b[0m \u001b[0mfastpath\u001b[0m\u001b[0;34m=\u001b[0m\u001b[0;32mTrue\u001b[0m\u001b[0;34m)\u001b[0m\u001b[0;34m\u001b[0m\u001b[0m\n\u001b[0m\u001b[1;32m    265\u001b[0m \u001b[0;34m\u001b[0m\u001b[0m\n",
      "\u001b[0;32m~/anaconda3/lib/python3.6/site-packages/pandas/core/internals/managers.py\u001b[0m in \u001b[0;36m__init__\u001b[0;34m(self, block, axis, do_integrity_check, fastpath)\u001b[0m\n\u001b[1;32m   1480\u001b[0m         \u001b[0;32mif\u001b[0m \u001b[0;32mnot\u001b[0m \u001b[0misinstance\u001b[0m\u001b[0;34m(\u001b[0m\u001b[0mblock\u001b[0m\u001b[0;34m,\u001b[0m \u001b[0mBlock\u001b[0m\u001b[0;34m)\u001b[0m\u001b[0;34m:\u001b[0m\u001b[0;34m\u001b[0m\u001b[0m\n\u001b[0;32m-> 1481\u001b[0;31m             \u001b[0mblock\u001b[0m \u001b[0;34m=\u001b[0m \u001b[0mmake_block\u001b[0m\u001b[0;34m(\u001b[0m\u001b[0mblock\u001b[0m\u001b[0;34m,\u001b[0m \u001b[0mplacement\u001b[0m\u001b[0;34m=\u001b[0m\u001b[0mslice\u001b[0m\u001b[0;34m(\u001b[0m\u001b[0;36m0\u001b[0m\u001b[0;34m,\u001b[0m \u001b[0mlen\u001b[0m\u001b[0;34m(\u001b[0m\u001b[0maxis\u001b[0m\u001b[0;34m)\u001b[0m\u001b[0;34m)\u001b[0m\u001b[0;34m,\u001b[0m \u001b[0mndim\u001b[0m\u001b[0;34m=\u001b[0m\u001b[0;36m1\u001b[0m\u001b[0;34m)\u001b[0m\u001b[0;34m\u001b[0m\u001b[0m\n\u001b[0m\u001b[1;32m   1482\u001b[0m \u001b[0;34m\u001b[0m\u001b[0m\n",
      "\u001b[0;32m~/anaconda3/lib/python3.6/site-packages/pandas/core/internals/blocks.py\u001b[0m in \u001b[0;36mmake_block\u001b[0;34m(values, placement, klass, ndim, dtype, fastpath)\u001b[0m\n\u001b[1;32m   3094\u001b[0m \u001b[0;34m\u001b[0m\u001b[0m\n\u001b[0;32m-> 3095\u001b[0;31m     \u001b[0;32mreturn\u001b[0m \u001b[0mklass\u001b[0m\u001b[0;34m(\u001b[0m\u001b[0mvalues\u001b[0m\u001b[0;34m,\u001b[0m \u001b[0mndim\u001b[0m\u001b[0;34m=\u001b[0m\u001b[0mndim\u001b[0m\u001b[0;34m,\u001b[0m \u001b[0mplacement\u001b[0m\u001b[0;34m=\u001b[0m\u001b[0mplacement\u001b[0m\u001b[0;34m)\u001b[0m\u001b[0;34m\u001b[0m\u001b[0m\n\u001b[0m\u001b[1;32m   3096\u001b[0m \u001b[0;34m\u001b[0m\u001b[0m\n",
      "\u001b[0;32m~/anaconda3/lib/python3.6/site-packages/pandas/core/internals/blocks.py\u001b[0m in \u001b[0;36m__init__\u001b[0;34m(self, values, placement, ndim)\u001b[0m\n\u001b[1;32m   2630\u001b[0m         super(ObjectBlock, self).__init__(values, ndim=ndim,\n\u001b[0;32m-> 2631\u001b[0;31m                                           placement=placement)\n\u001b[0m\u001b[1;32m   2632\u001b[0m \u001b[0;34m\u001b[0m\u001b[0m\n",
      "\u001b[0;32m~/anaconda3/lib/python3.6/site-packages/pandas/core/internals/blocks.py\u001b[0m in \u001b[0;36m__init__\u001b[0;34m(self, values, placement, ndim)\u001b[0m\n\u001b[1;32m     86\u001b[0m                 \u001b[0;34m'Wrong number of items passed {val}, placement implies '\u001b[0m\u001b[0;34m\u001b[0m\u001b[0m\n\u001b[0;32m---> 87\u001b[0;31m                 '{mgr}'.format(val=len(self.values), mgr=len(self.mgr_locs)))\n\u001b[0m\u001b[1;32m     88\u001b[0m \u001b[0;34m\u001b[0m\u001b[0m\n",
      "\u001b[0;31mValueError\u001b[0m: Wrong number of items passed 6, placement implies 0",
      "\nDuring handling of the above exception, another exception occurred:\n",
      "\u001b[0;31mValueError\u001b[0m                                Traceback (most recent call last)",
      "\u001b[0;32m<ipython-input-8-219ade812d5c>\u001b[0m in \u001b[0;36m<module>\u001b[0;34m()\u001b[0m\n\u001b[0;32m----> 1\u001b[0;31m \u001b[0mpdAccPorDia\u001b[0m\u001b[0;34m[\u001b[0m\u001b[0;34m'dia'\u001b[0m\u001b[0;34m]\u001b[0m \u001b[0;34m=\u001b[0m \u001b[0mpdAccPorDia\u001b[0m\u001b[0;34m.\u001b[0m\u001b[0mapply\u001b[0m\u001b[0;34m(\u001b[0m\u001b[0;32mlambda\u001b[0m \u001b[0mrow\u001b[0m\u001b[0;34m:\u001b[0m \u001b[0mdias\u001b[0m\u001b[0;34m[\u001b[0m\u001b[0mrow\u001b[0m\u001b[0;34m.\u001b[0m\u001b[0mdiaStr\u001b[0m\u001b[0;34m]\u001b[0m\u001b[0;34m,\u001b[0m \u001b[0maxis\u001b[0m\u001b[0;34m=\u001b[0m\u001b[0;36m1\u001b[0m\u001b[0;34m)\u001b[0m\u001b[0;34m\u001b[0m\u001b[0m\n\u001b[0m",
      "\u001b[0;32m~/anaconda3/lib/python3.6/site-packages/pandas/core/frame.py\u001b[0m in \u001b[0;36m__setitem__\u001b[0;34m(self, key, value)\u001b[0m\n\u001b[1;32m   3368\u001b[0m         \u001b[0;32melse\u001b[0m\u001b[0;34m:\u001b[0m\u001b[0;34m\u001b[0m\u001b[0m\n\u001b[1;32m   3369\u001b[0m             \u001b[0;31m# set column\u001b[0m\u001b[0;34m\u001b[0m\u001b[0;34m\u001b[0m\u001b[0m\n\u001b[0;32m-> 3370\u001b[0;31m             \u001b[0mself\u001b[0m\u001b[0;34m.\u001b[0m\u001b[0m_set_item\u001b[0m\u001b[0;34m(\u001b[0m\u001b[0mkey\u001b[0m\u001b[0;34m,\u001b[0m \u001b[0mvalue\u001b[0m\u001b[0;34m)\u001b[0m\u001b[0;34m\u001b[0m\u001b[0m\n\u001b[0m\u001b[1;32m   3371\u001b[0m \u001b[0;34m\u001b[0m\u001b[0m\n\u001b[1;32m   3372\u001b[0m     \u001b[0;32mdef\u001b[0m \u001b[0m_setitem_slice\u001b[0m\u001b[0;34m(\u001b[0m\u001b[0mself\u001b[0m\u001b[0;34m,\u001b[0m \u001b[0mkey\u001b[0m\u001b[0;34m,\u001b[0m \u001b[0mvalue\u001b[0m\u001b[0;34m)\u001b[0m\u001b[0;34m:\u001b[0m\u001b[0;34m\u001b[0m\u001b[0m\n",
      "\u001b[0;32m~/anaconda3/lib/python3.6/site-packages/pandas/core/frame.py\u001b[0m in \u001b[0;36m_set_item\u001b[0;34m(self, key, value)\u001b[0m\n\u001b[1;32m   3442\u001b[0m         \"\"\"\n\u001b[1;32m   3443\u001b[0m \u001b[0;34m\u001b[0m\u001b[0m\n\u001b[0;32m-> 3444\u001b[0;31m         \u001b[0mself\u001b[0m\u001b[0;34m.\u001b[0m\u001b[0m_ensure_valid_index\u001b[0m\u001b[0;34m(\u001b[0m\u001b[0mvalue\u001b[0m\u001b[0;34m)\u001b[0m\u001b[0;34m\u001b[0m\u001b[0m\n\u001b[0m\u001b[1;32m   3445\u001b[0m         \u001b[0mvalue\u001b[0m \u001b[0;34m=\u001b[0m \u001b[0mself\u001b[0m\u001b[0;34m.\u001b[0m\u001b[0m_sanitize_column\u001b[0m\u001b[0;34m(\u001b[0m\u001b[0mkey\u001b[0m\u001b[0;34m,\u001b[0m \u001b[0mvalue\u001b[0m\u001b[0;34m)\u001b[0m\u001b[0;34m\u001b[0m\u001b[0m\n\u001b[1;32m   3446\u001b[0m         \u001b[0mNDFrame\u001b[0m\u001b[0;34m.\u001b[0m\u001b[0m_set_item\u001b[0m\u001b[0;34m(\u001b[0m\u001b[0mself\u001b[0m\u001b[0;34m,\u001b[0m \u001b[0mkey\u001b[0m\u001b[0;34m,\u001b[0m \u001b[0mvalue\u001b[0m\u001b[0;34m)\u001b[0m\u001b[0;34m\u001b[0m\u001b[0m\n",
      "\u001b[0;32m~/anaconda3/lib/python3.6/site-packages/pandas/core/frame.py\u001b[0m in \u001b[0;36m_ensure_valid_index\u001b[0;34m(self, value)\u001b[0m\n\u001b[1;32m   3424\u001b[0m                 \u001b[0mvalue\u001b[0m \u001b[0;34m=\u001b[0m \u001b[0mSeries\u001b[0m\u001b[0;34m(\u001b[0m\u001b[0mvalue\u001b[0m\u001b[0;34m)\u001b[0m\u001b[0;34m\u001b[0m\u001b[0m\n\u001b[1;32m   3425\u001b[0m             \u001b[0;32mexcept\u001b[0m \u001b[0;34m(\u001b[0m\u001b[0mValueError\u001b[0m\u001b[0;34m,\u001b[0m \u001b[0mNotImplementedError\u001b[0m\u001b[0;34m,\u001b[0m \u001b[0mTypeError\u001b[0m\u001b[0;34m)\u001b[0m\u001b[0;34m:\u001b[0m\u001b[0;34m\u001b[0m\u001b[0m\n\u001b[0;32m-> 3426\u001b[0;31m                 raise ValueError('Cannot set a frame with no defined index '\n\u001b[0m\u001b[1;32m   3427\u001b[0m                                  \u001b[0;34m'and a value that cannot be converted to a '\u001b[0m\u001b[0;34m\u001b[0m\u001b[0m\n\u001b[1;32m   3428\u001b[0m                                  'Series')\n",
      "\u001b[0;31mValueError\u001b[0m: Cannot set a frame with no defined index and a value that cannot be converted to a Series"
     ]
    }
   ],
   "source": [
    "pdAccPorDia['dia'] = pdAccPorDia.apply(lambda row: dias[row.diaStr], axis=1)"
   ]
  },
  {
   "cell_type": "code",
   "execution_count": null,
   "metadata": {},
   "outputs": [],
   "source": [
    "horas={\n",
    "    'DE 00:00 A 00:59':0,\n",
    "    'DE 1:00 A 1:59':1,\n",
    "    'DE 2:00 A 2:59':2,\n",
    "    'DE 3:00 A 3:59':3,\n",
    "    'DE 4:00 A 4:59':4,\n",
    "    'DE 5:00 A 5:59':5,\n",
    "    'DE 6:00 A 6:59':6,\n",
    "    'DE 7:00 A 7:59':7,\n",
    "    'DE 8:00 A 8:59':8,\n",
    "    'DE 9:00 A 9:59':9,\n",
    "    'DE 10:00 A 10:59':10,\n",
    "    'DE 11:00 A 11:59':11,\n",
    "    'DE 12:00 A 12:59':12,\n",
    "    'DE 13:00 A 13:59':13,\n",
    "    'DE 14:00 A 14:59':14,\n",
    "    'DE 15:00 A 15:59':15,\n",
    "    'DE 16:00 A 16:59':16,\n",
    "    'DE 17:00 A 17:59':17,\n",
    "    'DE 18:00 A 18:59':18,\n",
    "    'DE 19:00 A 19:59':19,\n",
    "    'DE 20:00 A 20:59':20,\n",
    "    'DE 21:00 A 21:59':21,\n",
    "    'DE 22:00 A 22:59':22,\n",
    "    'DE 23:00 A 23:59':23,\n",
    "}\n",
    "pdAccPorDia['hora'] = pdAccPorDia.apply(lambda row: horas[row.tramoHora], axis=1)"
   ]
  },
  {
   "cell_type": "code",
   "execution_count": null,
   "metadata": {},
   "outputs": [],
   "source": [
    "edades={\n",
    "    \"DE 0 A 5 AÑOS\":5,\n",
    "    \"DE 6 A 9 AÑOS \":9,\n",
    "    \"DE 10 A 14 AÑOS\":14,\n",
    "    \"DE 15 A 17 AÑOS\":17,\n",
    "    \"DE 18 A 20 AÑOS\":20,\n",
    "    \"DE 21 A 24 AÑOS\":24,\n",
    "    \"DE 25 A 29 AÑOS\":29,\n",
    "    \"DE 30 A 34 ANOS\":34,\n",
    "    \"DE 35 A 39 AÑOS\":39,\n",
    "    \"DE 40 A 44 AÑOS\":44,\n",
    "    \"DE 45 A 49 AÑOS\":49,\n",
    "    \"DE 50 A 54 AÑOS\":54,\n",
    "    \"DE 55 A 59 AÑOS\":59,\n",
    "    \"DE 60 A 64 AÑOS\":64,\n",
    "    \"DE 65 A 69 AÑOS\":69,\n",
    "    \"DE 70 A 74 AÑOS\":74,\n",
    "    \"DE MAS DE 74 AÑOS \":99 ,\n",
    "    \"DESCONOCIDA\":0\n",
    "}\n",
    "pdAccPorDia['edad'] = pdAccPorDia.apply(lambda row: edades[row.tramoEdad], axis=1)\n",
    "pdAccPorDia = pdAccPorDia.sort_values (by=['edad','dia','hora'])"
   ]
  },
  {
   "cell_type": "code",
   "execution_count": null,
   "metadata": {},
   "outputs": [],
   "source": [
    "pdAccPorDia.head(8)"
   ]
  },
  {
   "cell_type": "code",
   "execution_count": null,
   "metadata": {},
   "outputs": [],
   "source": [
    "from plotly.offline import iplot, plot\n",
    "from bubbly.bubbly import bubbleplot \n",
    "\n",
    "\n",
    "figure = bubbleplot(dataset=pdAccPorDia, x_column='hora', y_column='dia', \n",
    "    bubble_column='sexo', time_column = 'edad', size_column='TotalVictimas', #color_column='sexo', \n",
    "    x_title=\"Hora del día\", y_title=\"Día de la semana\", title='Accidentes ciudad de Madrid',\n",
    "    scale_bubble=3, height=650)\n",
    "#iplot(figure, config={'scrollzoom': True}) \n",
    "plot(figure)"
   ]
  },
  {
   "cell_type": "code",
   "execution_count": null,
   "metadata": {},
   "outputs": [],
   "source": []
  }
 ],
 "metadata": {
  "kernelspec": {
   "display_name": "Python 3",
   "language": "python",
   "name": "python3"
  },
  "language_info": {
   "codemirror_mode": {
    "name": "ipython",
    "version": 3
   },
   "file_extension": ".py",
   "mimetype": "text/x-python",
   "name": "python",
   "nbconvert_exporter": "python",
   "pygments_lexer": "ipython3",
   "version": "3.6.5"
  }
 },
 "nbformat": 4,
 "nbformat_minor": 2
}
