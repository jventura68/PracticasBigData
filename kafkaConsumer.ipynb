{
 "cells": [
  {
   "cell_type": "code",
   "execution_count": 1,
   "metadata": {},
   "outputs": [],
   "source": [
    "from kafka import KafkaConsumer\n",
    "import time\n",
    "import json\n",
    "import queue\n",
    "from IPython.display import clear_output"
   ]
  },
  {
   "cell_type": "code",
   "execution_count": 2,
   "metadata": {},
   "outputs": [],
   "source": [
    "# This script receives messages from a Kafka topic\n",
    "from kafka import KafkaConsumer\n",
    "\n",
    "consumer = KafkaConsumer(\n",
    "    \"accidentes\",\n",
    "    bootstrap_servers=\"kafka-194e1e33-jose-30ef.aivencloud.com:26426\",\n",
    "    value_deserializer=lambda m: json.loads(m.decode('utf-8')),\n",
    "    client_id=\"demo-client\",\n",
    "    group_id=\"demo-group\",\n",
    "    security_protocol=\"SSL\",\n",
    "    ssl_cafile=\"./cert/ca.pem\",\n",
    "    ssl_certfile=\"./cert/service.cert\",\n",
    "    ssl_keyfile=\"./cert/service.key\"\n",
    ")\n",
    "\n"
   ]
  },
  {
   "cell_type": "code",
   "execution_count": 10,
   "metadata": {
    "scrolled": true
   },
   "outputs": [
    {
     "name": "stdout",
     "output_type": "stream",
     "text": [
      "Panel -----------------------------------------------------\n",
      "2018/34 ->\t AVENIDA DEL MEDITERRANEO NUM 32\n",
      "2018/23 ->\t CALLE  VIA CARPETANA - CALLE DE CASIMIRO ESCUDERO 0\n",
      "2018/43 ->\t AUTOVIA  M-30 CALZADA 1 KM. 4300\n",
      "2018/20 ->\t AUTOVIA  M-30 CALZADA 1 KM. 4700\n",
      "2018/76 ->\t CALLE DE ALCALA NUM 44\n",
      "2018/25 ->\t CALLE DE ANCORA - PASEO DE LAS DELICIAS 0\n",
      "2018/8 ->\t CALLE DE LA FUENTE CARRANTONA - CALLE DE LUIS DE HOYOS SAINZ 0\n",
      "2018/16 ->\t CALLE DEL CABO LOPEZ MARTINEZ NUM 32\n",
      "-----------------------------------------------------------\n"
     ]
    },
    {
     "ename": "KeyboardInterrupt",
     "evalue": "",
     "output_type": "error",
     "traceback": [
      "\u001b[0;31m---------------------------------------------------------------------------\u001b[0m",
      "\u001b[0;31mKeyboardInterrupt\u001b[0m                         Traceback (most recent call last)",
      "\u001b[0;32m<ipython-input-10-33fd050b558a>\u001b[0m in \u001b[0;36m<module>\u001b[0;34m\u001b[0m\n\u001b[1;32m     25\u001b[0m                 \u001b[0mprint\u001b[0m \u001b[0;34m(\u001b[0m\u001b[0malerts\u001b[0m\u001b[0;34m[\u001b[0m\u001b[0mi\u001b[0m\u001b[0;34m]\u001b[0m\u001b[0;34m[\u001b[0m\u001b[0;34m'acc'\u001b[0m\u001b[0;34m]\u001b[0m\u001b[0;34m,\u001b[0m\u001b[0;34m'->\\t'\u001b[0m\u001b[0;34m,\u001b[0m\u001b[0malerts\u001b[0m\u001b[0;34m[\u001b[0m\u001b[0mi\u001b[0m\u001b[0;34m]\u001b[0m\u001b[0;34m[\u001b[0m\u001b[0;34m'calle'\u001b[0m\u001b[0;34m]\u001b[0m\u001b[0;34m,\u001b[0m\u001b[0malerts\u001b[0m\u001b[0;34m[\u001b[0m\u001b[0mi\u001b[0m\u001b[0;34m]\u001b[0m\u001b[0;34m[\u001b[0m\u001b[0;34m'num'\u001b[0m\u001b[0;34m]\u001b[0m\u001b[0;34m)\u001b[0m\u001b[0;34m\u001b[0m\u001b[0;34m\u001b[0m\u001b[0m\n\u001b[1;32m     26\u001b[0m         \u001b[0mprint\u001b[0m \u001b[0;34m(\u001b[0m\u001b[0;34m'-----------------------------------------------------------'\u001b[0m\u001b[0;34m)\u001b[0m\u001b[0;34m\u001b[0m\u001b[0;34m\u001b[0m\u001b[0m\n\u001b[0;32m---> 27\u001b[0;31m     \u001b[0mtime\u001b[0m\u001b[0;34m.\u001b[0m\u001b[0msleep\u001b[0m\u001b[0;34m(\u001b[0m\u001b[0;36m1\u001b[0m\u001b[0;34m)\u001b[0m\u001b[0;34m\u001b[0m\u001b[0;34m\u001b[0m\u001b[0m\n\u001b[0m",
      "\u001b[0;31mKeyboardInterrupt\u001b[0m: "
     ]
    }
   ],
   "source": [
    "\"\"\"\n",
    "Presenta en pantalla los últimso 20 accidentes que se han producido\n",
    "para que sean monitorizados\n",
    "\"\"\"\n",
    "NUM_ALERTS = 10\n",
    "alerts=[None for i in range(NUM_ALERTS)] #inicializar las alertas\n",
    "current = 0\n",
    "while True:\n",
    "    raw_msgs = consumer.poll(timeout_ms=1000, max_records=1)\n",
    "    #print ('Poll ralizado, mensajes {}'.format(len(raw_msgs.items())))\n",
    "    for tp, msgs in raw_msgs.items():\n",
    "        #Limpia la salida de la celda para evitar el scroll\n",
    "        #print ('cargar {} mensajes'.format(len(msgs)))\n",
    "        for msg in msgs:\n",
    "            if alerts [NUM_ALERTS-1] == None or alerts[NUM_ALERTS-1]['acc'] != msg.value['acc']:\n",
    "                #Elimina la alerta más antigua\n",
    "                alerts.pop(0)\n",
    "                #incluye en la cabecera\n",
    "                alerts.append(msg.value)\n",
    "        clear_output(wait=True)\n",
    "        #Los elementos más nuevos están al final de la lista\n",
    "        print ('Panel -----------------------------------------------------')\n",
    "        for i in range(NUM_ALERTS-1,0,-1):\n",
    "            if alerts[i] != None:\n",
    "                print (alerts[i]['acc'],'->\\t',alerts[i]['calle'],alerts[i]['num'])\n",
    "        print ('-----------------------------------------------------------')\n",
    "    time.sleep(1)\n"
   ]
  },
  {
   "cell_type": "code",
   "execution_count": null,
   "metadata": {},
   "outputs": [],
   "source": []
  }
 ],
 "metadata": {
  "kernelspec": {
   "display_name": "Python 3",
   "language": "python",
   "name": "python3"
  },
  "language_info": {
   "codemirror_mode": {
    "name": "ipython",
    "version": 3
   },
   "file_extension": ".py",
   "mimetype": "text/x-python",
   "name": "python",
   "nbconvert_exporter": "python",
   "pygments_lexer": "ipython3",
   "version": "3.7.3"
  }
 },
 "nbformat": 4,
 "nbformat_minor": 2
}
