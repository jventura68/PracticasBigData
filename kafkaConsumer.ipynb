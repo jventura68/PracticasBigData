{
 "cells": [
  {
   "cell_type": "code",
   "execution_count": null,
   "metadata": {},
   "outputs": [],
   "source": [
    "from kafka import KafkaConsumer\n",
    "import time\n",
    "import json\n",
    "import queue\n",
    "#Para vaciar la salida de una celda del notebook\n",
    "from IPython.display import clear_output "
   ]
  },
  {
   "cell_type": "markdown",
   "metadata": {},
   "source": [
    "## Definición del consumer para el servicio que está en cloud [Aiven](https://aiven.io/)\n",
    "### Este servicio requiere que estén en la carpeta ./cert estén los ficheros con los certificados y el key de la aplicación\n"
   ]
  },
  {
   "cell_type": "code",
   "execution_count": null,
   "metadata": {},
   "outputs": [],
   "source": [
    "\"\"\"\n",
    "Este consumer utiliza un servicio de Kafka en la nube \n",
    "\n",
    "Requiere que en la carpeta ./cert estén los ficheros \n",
    "con los certificados y el key de la aplicación\n",
    "\"\"\"\n",
    "\n",
    "consumerCloud = KafkaConsumer(\n",
    "    \"accidentes\",\n",
    "    bootstrap_servers=\"kafka-194e1e33-jose-30ef.aivencloud.com:26426\",\n",
    "    value_deserializer=lambda m: json.loads(m.decode('utf-8')),\n",
    "    client_id=\"demo-client\",\n",
    "    group_id=\"demo-group\",\n",
    "    security_protocol=\"SSL\",\n",
    "    ssl_cafile=\"./cert/ca.pem\",\n",
    "    ssl_certfile=\"./cert/service.cert\",\n",
    "    ssl_keyfile=\"./cert/service.key\"\n",
    ")\n",
    "\n"
   ]
  },
  {
   "cell_type": "markdown",
   "metadata": {},
   "source": [
    "## Se presentan en un panel los últimos 10 mensajes recibidos por kafka"
   ]
  },
  {
   "cell_type": "code",
   "execution_count": null,
   "metadata": {
    "scrolled": true
   },
   "outputs": [],
   "source": [
    "\"\"\"\n",
    "Presenta en pantalla los últimso 10 accidentes que se han producido\n",
    "para que sean monitorizados\n",
    "\n",
    "En este servicio de kafka el topic 'accidentes' está grabado como un json,\n",
    "por eso se utiliza el deserializador\n",
    "\"\"\"\n",
    "NUM_ALERTS = 10\n",
    "alerts=[None for i in range(NUM_ALERTS)] #inicializar las alertas\n",
    "current = 0\n",
    "while True:\n",
    "    raw_msgs = consumerCloud.poll(timeout_ms=1000, max_records=1)\n",
    "    for tp, msgs in raw_msgs.items():\n",
    "        for msg in msgs:\n",
    "            if alerts [NUM_ALERTS-1] == None or alerts[NUM_ALERTS-1]['acc'] != msg.value['acc']:\n",
    "                #Elimina la alerta más antigua\n",
    "                alerts.pop(0)\n",
    "                #incluye el nuevo elemento al final de la lista\n",
    "                alerts.append(msg.value)\n",
    "        #Limpia la salida de la celda para evitar el scroll\n",
    "        clear_output(wait=True)\n",
    "        #Los elementos más nuevos están al final de la lista\n",
    "        print ('Panel -----------------------------------------------------')\n",
    "        for i in range(NUM_ALERTS-1,0,-1):\n",
    "            if alerts[i] != None:\n",
    "                print (alerts[i]['acc'],'->\\t',alerts[i]['calle'],alerts[i]['num'])\n",
    "        print ('-----------------------------------------------------------')\n",
    "    time.sleep(1)\n"
   ]
  },
  {
   "cell_type": "markdown",
   "metadata": {},
   "source": [
    "## Definición del consumer para el servicio que está en uno de los equipos del aula"
   ]
  },
  {
   "cell_type": "code",
   "execution_count": null,
   "metadata": {},
   "outputs": [],
   "source": [
    "from kafka import KafkaConsumer\n",
    "\n",
    "consumer = KafkaConsumer(\n",
    "    \"accidentes\",\n",
    "    bootstrap_servers=[\"10.0.7.109:9092\"],\n",
    "    auto_offset_reset='earliest',\n",
    "    enable_auto_commit=True,\n",
    "    group_id='cluster2',\n",
    "    value_deserializer=lambda x: x.decode('utf-8'))\n"
   ]
  },
  {
   "cell_type": "markdown",
   "metadata": {},
   "source": [
    "## Se presentan en un panel los últimos 10 mensajes recibidos por kafka"
   ]
  },
  {
   "cell_type": "code",
   "execution_count": 12,
   "metadata": {
    "scrolled": true
   },
   "outputs": [
    {
     "name": "stdout",
     "output_type": "stream",
     "text": [
      "Panel -----------------------------------------------------\n",
      "2017/1491 ->\t CALLE DE ALCALA NUM 716\n",
      "2017/1565 ->\t AUTOVIA  M-30 CALZADA 1 - CALLE DE ALCALA \n",
      "2017/1489 ->\t AVENIDA DE LOS ANDES - GLORIETA DEL MAR DE CRISTAL 0\n",
      "2017/1534 ->\t AVENIDA DE MENENDEZ PELAYO - CALLE DEL DOCE DE OCTUBRE 0\n",
      "2017/1571 ->\t AUTOVIA  A-4 ENTRADA KM. 4000\n",
      "2017/1549 ->\t PASEO DE LA CASTELLANA NUM 109\n",
      "2017/1530 ->\t AUTOVIA  M-23 ENTRADA KM. 1000\n",
      "2017/1546 ->\t CALLE DE GONZALEZ DAVILA - CAMINO DE LAS HORMIGUERAS 0\n",
      "2017/1524 ->\t PASEO DE LA CASTELLANA NUM 84\n",
      "-----------------------------------------------------------\n"
     ]
    },
    {
     "ename": "KeyboardInterrupt",
     "evalue": "",
     "output_type": "error",
     "traceback": [
      "\u001b[0;31m---------------------------------------------------------------------------\u001b[0m",
      "\u001b[0;31mKeyboardInterrupt\u001b[0m                         Traceback (most recent call last)",
      "\u001b[0;32m<ipython-input-12-40cb8cd270df>\u001b[0m in \u001b[0;36m<module>\u001b[0;34m()\u001b[0m\n\u001b[1;32m     29\u001b[0m                 \u001b[0mprint\u001b[0m \u001b[0;34m(\u001b[0m\u001b[0malerts\u001b[0m\u001b[0;34m[\u001b[0m\u001b[0mi\u001b[0m\u001b[0;34m]\u001b[0m\u001b[0;34m[\u001b[0m\u001b[0;34m'acc'\u001b[0m\u001b[0;34m]\u001b[0m\u001b[0;34m,\u001b[0m\u001b[0;34m'->\\t'\u001b[0m\u001b[0;34m,\u001b[0m\u001b[0malerts\u001b[0m\u001b[0;34m[\u001b[0m\u001b[0mi\u001b[0m\u001b[0;34m]\u001b[0m\u001b[0;34m[\u001b[0m\u001b[0;34m'calle'\u001b[0m\u001b[0;34m]\u001b[0m\u001b[0;34m,\u001b[0m\u001b[0malerts\u001b[0m\u001b[0;34m[\u001b[0m\u001b[0mi\u001b[0m\u001b[0;34m]\u001b[0m\u001b[0;34m[\u001b[0m\u001b[0;34m'num'\u001b[0m\u001b[0;34m]\u001b[0m\u001b[0;34m)\u001b[0m\u001b[0;34m\u001b[0m\u001b[0m\n\u001b[1;32m     30\u001b[0m         \u001b[0mprint\u001b[0m \u001b[0;34m(\u001b[0m\u001b[0;34m'-----------------------------------------------------------'\u001b[0m\u001b[0;34m)\u001b[0m\u001b[0;34m\u001b[0m\u001b[0m\n\u001b[0;32m---> 31\u001b[0;31m     \u001b[0mtime\u001b[0m\u001b[0;34m.\u001b[0m\u001b[0msleep\u001b[0m\u001b[0;34m(\u001b[0m\u001b[0;36m1\u001b[0m\u001b[0;34m)\u001b[0m\u001b[0;34m\u001b[0m\u001b[0m\n\u001b[0m",
      "\u001b[0;31mKeyboardInterrupt\u001b[0m: "
     ]
    }
   ],
   "source": [
    "\"\"\"\n",
    "Presenta en pantalla los últimso 10 accidentes que se han producido\n",
    "para que sean monitorizados\n",
    "\n",
    "En este servicio de kafka el topic 'accidentes' está grabado como un json,\n",
    "por eso se utiliza el deserializador\n",
    "\"\"\"\n",
    "NUM_ALERTS = 10\n",
    "alerts=[None for i in range(NUM_ALERTS)] #inicializar las alertas\n",
    "current = 0\n",
    "while True:\n",
    "    raw_msgs = consumer.poll(timeout_ms=1000, max_records=1)\n",
    "    #print ('Poll ralizado, mensajes {}'.format(len(raw_msgs.items())))\n",
    "    for tp, msgs in raw_msgs.items():\n",
    "        #Limpia la salida de la celda para evitar el scroll\n",
    "        #print ('cargar {} mensajes'.format(len(msgs)))\n",
    "        for msg in msgs:\n",
    "            data = msg.value.split(',')\n",
    "            acc = data[6]\n",
    "            calle = data[4].strip()\n",
    "            num = data[5]\n",
    "            if alerts [NUM_ALERTS-1] == None or alerts[NUM_ALERTS-1]['acc'] != acc:\n",
    "                #Elimina la alerta más antigua\n",
    "                alerts.pop(0)\n",
    "                #incluye en la cabecera\n",
    "                alerts.append({'acc':acc, 'calle':calle, 'num':num})\n",
    "        clear_output(wait=True)\n",
    "        #Los elementos más nuevos están al final de la lista\n",
    "        print ('Panel -----------------------------------------------------')\n",
    "        for i in range(NUM_ALERTS-1,0,-1):\n",
    "            if alerts[i] != None:\n",
    "                print (alerts[i]['acc'],'->\\t',alerts[i]['calle'],alerts[i]['num'])\n",
    "        print ('-----------------------------------------------------------')\n",
    "    time.sleep(1)\n"
   ]
  },
  {
   "cell_type": "code",
   "execution_count": null,
   "metadata": {},
   "outputs": [],
   "source": []
  }
 ],
 "metadata": {
  "kernelspec": {
   "display_name": "Python 3",
   "language": "python",
   "name": "python3"
  },
  "language_info": {
   "codemirror_mode": {
    "name": "ipython",
    "version": 3
   },
   "file_extension": ".py",
   "mimetype": "text/x-python",
   "name": "python",
   "nbconvert_exporter": "python",
   "pygments_lexer": "ipython3",
   "version": "3.6.5"
  }
 },
 "nbformat": 4,
 "nbformat_minor": 2
}
