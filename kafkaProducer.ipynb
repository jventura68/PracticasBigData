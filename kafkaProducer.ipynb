{
 "cells": [
  {
   "cell_type": "code",
   "execution_count": 25,
   "metadata": {},
   "outputs": [],
   "source": [
    "from kafka import KafkaConsumer\n",
    "from kafka import KafkaProducer\n",
    "from time import gmtime, strftime, sleep\n",
    "import json\n",
    "import csv\n",
    "from IPython.display import clear_output"
   ]
  },
  {
   "cell_type": "code",
   "execution_count": 7,
   "metadata": {},
   "outputs": [],
   "source": [
    "producer = KafkaProducer(\n",
    "    bootstrap_servers=\"kafka-194e1e33-jose-30ef.aivencloud.com:26426\",\n",
    "    value_serializer=lambda v: json.dumps(v).encode('utf-8'),\n",
    "    security_protocol=\"SSL\",\n",
    "    ssl_cafile=\"./cert/ca.pem\",\n",
    "    ssl_certfile=\"./cert/service.cert\",\n",
    "    ssl_keyfile=\"./cert/service.key\",\n",
    ")"
   ]
  },
  {
   "cell_type": "code",
   "execution_count": 32,
   "metadata": {},
   "outputs": [
    {
     "name": "stdout",
     "output_type": "stream",
     "text": [
      "{'acc': '2018/3', 'calle': 'AVENIDA DE FRANCISCO PI Y MARGALL - AVENIDA DE NICETO ALCALA ZAMORA', 'num': '          '}\n"
     ]
    },
    {
     "ename": "KeyboardInterrupt",
     "evalue": "",
     "output_type": "error",
     "traceback": [
      "\u001b[0;31m---------------------------------------------------------------------------\u001b[0m",
      "\u001b[0;31mKeyboardInterrupt\u001b[0m                         Traceback (most recent call last)",
      "\u001b[0;32m<ipython-input-32-d382abe7511d>\u001b[0m in \u001b[0;36m<module>\u001b[0;34m\u001b[0m\n\u001b[1;32m     12\u001b[0m         \u001b[0mproducer\u001b[0m\u001b[0;34m.\u001b[0m\u001b[0msend\u001b[0m \u001b[0;34m(\u001b[0m\u001b[0;34m\"accidentes\"\u001b[0m\u001b[0;34m,\u001b[0m\u001b[0mout\u001b[0m\u001b[0;34m)\u001b[0m\u001b[0;34m\u001b[0m\u001b[0;34m\u001b[0m\u001b[0m\n\u001b[1;32m     13\u001b[0m         \u001b[0mproducer\u001b[0m\u001b[0;34m.\u001b[0m\u001b[0mflush\u001b[0m\u001b[0;34m(\u001b[0m\u001b[0;34m)\u001b[0m\u001b[0;34m\u001b[0m\u001b[0;34m\u001b[0m\u001b[0m\n\u001b[0;32m---> 14\u001b[0;31m         \u001b[0msleep\u001b[0m\u001b[0;34m(\u001b[0m\u001b[0;36m1\u001b[0m\u001b[0;34m)\u001b[0m\u001b[0;34m\u001b[0m\u001b[0;34m\u001b[0m\u001b[0m\n\u001b[0m",
      "\u001b[0;31mKeyboardInterrupt\u001b[0m: "
     ]
    }
   ],
   "source": [
    "with open ('data/2018_Accidentalidad.csv',encoding=\"ISO-8859-1\") as fAccidentes:\n",
    "    reader = csv.DictReader(fAccidentes,delimiter=';')\n",
    "    i = 0\n",
    "    for row in reader:\n",
    "        i += 1\n",
    "        clear_output (wait=True)\n",
    "        acc = row['Nº PARTE']\n",
    "        calle = row['LUGAR ACCIDENTE'].strip()\n",
    "        num = row['Nº']\n",
    "        out = {'acc':acc, 'calle':calle,'num':num}\n",
    "        print (out)\n",
    "        producer.send (\"accidentes\",out)\n",
    "        producer.flush()\n",
    "        sleep(1)\n"
   ]
  },
  {
   "cell_type": "code",
   "execution_count": null,
   "metadata": {},
   "outputs": [],
   "source": []
  },
  {
   "cell_type": "code",
   "execution_count": null,
   "metadata": {},
   "outputs": [],
   "source": []
  }
 ],
 "metadata": {
  "kernelspec": {
   "display_name": "Python 3",
   "language": "python",
   "name": "python3"
  },
  "language_info": {
   "codemirror_mode": {
    "name": "ipython",
    "version": 3
   },
   "file_extension": ".py",
   "mimetype": "text/x-python",
   "name": "python",
   "nbconvert_exporter": "python",
   "pygments_lexer": "ipython3",
   "version": "3.7.3"
  }
 },
 "nbformat": 4,
 "nbformat_minor": 2
}
