{
 "cells": [
  {
   "cell_type": "code",
   "execution_count": 3,
   "metadata": {},
   "outputs": [
    {
     "ename": "NameError",
     "evalue": "name 'PENR2009' is not defined",
     "output_type": "error",
     "traceback": [
      "\u001b[0;31m---------------------------------------------------------------------------\u001b[0m",
      "\u001b[0;31mNameError\u001b[0m                                 Traceback (most recent call last)",
      "\u001b[0;32m<ipython-input-3-039dd2a83ea1>\u001b[0m in \u001b[0;36m<module>\u001b[0;34m\u001b[0m\n\u001b[1;32m      4\u001b[0m \u001b[0;32mimport\u001b[0m \u001b[0mpyproj\u001b[0m\u001b[0;34m\u001b[0m\u001b[0;34m\u001b[0m\u001b[0m\n\u001b[1;32m      5\u001b[0m \u001b[0mstopWords\u001b[0m \u001b[0;34m=\u001b[0m \u001b[0;34m[\u001b[0m\u001b[0;34m'del'\u001b[0m\u001b[0;34m,\u001b[0m\u001b[0;34m'de'\u001b[0m\u001b[0;34m,\u001b[0m\u001b[0;34m'la'\u001b[0m\u001b[0;34m,\u001b[0m\u001b[0;34m'las'\u001b[0m\u001b[0;34m,\u001b[0m\u001b[0;34m'el'\u001b[0m\u001b[0;34m,\u001b[0m\u001b[0;34m'los'\u001b[0m\u001b[0;34m]\u001b[0m\u001b[0;34m\u001b[0m\u001b[0;34m\u001b[0m\u001b[0m\n\u001b[0;32m----> 6\u001b[0;31m \u001b[0mED50_UTM30N\u001b[0m \u001b[0;34m=\u001b[0m \u001b[0mpyproj\u001b[0m\u001b[0;34m.\u001b[0m\u001b[0mProj\u001b[0m\u001b[0;34m(\u001b[0m\u001b[0minit\u001b[0m\u001b[0;34m=\u001b[0m\u001b[0;34m\"EPSG:23030\"\u001b[0m\u001b[0;34m,\u001b[0m \u001b[0mnadgrids\u001b[0m\u001b[0;34m=\u001b[0m\u001b[0mPENR2009\u001b[0m\u001b[0;34m)\u001b[0m \u001b[0;31m# Add the shift grid with nadgrids option\u001b[0m\u001b[0;34m\u001b[0m\u001b[0;34m\u001b[0m\u001b[0m\n\u001b[0m\u001b[1;32m      7\u001b[0m \u001b[0mETRS89_UTM30N\u001b[0m \u001b[0;34m=\u001b[0m \u001b[0mpyproj\u001b[0m\u001b[0;34m.\u001b[0m\u001b[0mProj\u001b[0m\u001b[0;34m(\u001b[0m\u001b[0minit\u001b[0m\u001b[0;34m=\u001b[0m\u001b[0;34m\"EPSG:25830\"\u001b[0m\u001b[0;34m)\u001b[0m\u001b[0;34m\u001b[0m\u001b[0;34m\u001b[0m\u001b[0m\n",
      "\u001b[0;31mNameError\u001b[0m: name 'PENR2009' is not defined"
     ]
    }
   ],
   "source": [
    "import json\n",
    "import csv\n",
    "import re\n",
    "import pyproj\n",
    "stopWords = ['del','de','la','las','el','los']\n",
    "ED50_UTM30N = pyproj.Proj(init=\"EPSG:23030\", nadgrids=PENR2009) # Add the shift grid with nadgrids option\n",
    "ETRS89_UTM30N = pyproj.Proj(init=\"EPSG:25830\")"
   ]
  },
  {
   "cell_type": "code",
   "execution_count": 9,
   "metadata": {},
   "outputs": [
    {
     "ename": "ModuleNotFoundError",
     "evalue": "No module named 'osr'",
     "output_type": "error",
     "traceback": [
      "\u001b[0;31m---------------------------------------------------------------------------\u001b[0m",
      "\u001b[0;31mModuleNotFoundError\u001b[0m                       Traceback (most recent call last)",
      "\u001b[0;32m<ipython-input-9-9050a8b9af2d>\u001b[0m in \u001b[0;36m<module>\u001b[0;34m\u001b[0m\n\u001b[0;32m----> 1\u001b[0;31m \u001b[0;32mimport\u001b[0m \u001b[0mosr\u001b[0m\u001b[0;34m\u001b[0m\u001b[0;34m\u001b[0m\u001b[0m\n\u001b[0m\u001b[1;32m      2\u001b[0m \u001b[0;34m\u001b[0m\u001b[0m\n\u001b[1;32m      3\u001b[0m \u001b[0;32mdef\u001b[0m \u001b[0mtransform_utm_to_wgs84\u001b[0m\u001b[0;34m(\u001b[0m\u001b[0measting\u001b[0m\u001b[0;34m,\u001b[0m \u001b[0mnorthing\u001b[0m\u001b[0;34m,\u001b[0m \u001b[0mzone\u001b[0m\u001b[0;34m)\u001b[0m\u001b[0;34m:\u001b[0m\u001b[0;34m\u001b[0m\u001b[0;34m\u001b[0m\u001b[0m\n\u001b[1;32m      4\u001b[0m     \u001b[0mutm_coordinate_system\u001b[0m \u001b[0;34m=\u001b[0m \u001b[0mosr\u001b[0m\u001b[0;34m.\u001b[0m\u001b[0mSpatialReference\u001b[0m\u001b[0;34m(\u001b[0m\u001b[0;34m)\u001b[0m\u001b[0;34m\u001b[0m\u001b[0;34m\u001b[0m\u001b[0m\n\u001b[1;32m      5\u001b[0m     \u001b[0mutm_coordinate_system\u001b[0m\u001b[0;34m.\u001b[0m\u001b[0mSetWellKnownGeogCS\u001b[0m\u001b[0;34m(\u001b[0m\u001b[0;34m\"WGS84\"\u001b[0m\u001b[0;34m)\u001b[0m \u001b[0;31m# Set geographic coordinate system to handle lat/lon\u001b[0m\u001b[0;34m\u001b[0m\u001b[0;34m\u001b[0m\u001b[0m\n",
      "\u001b[0;31mModuleNotFoundError\u001b[0m: No module named 'osr'"
     ]
    }
   ],
   "source": [
    "import osr\n",
    "\n",
    "def transform_utm_to_wgs84(easting, northing, zone):\n",
    "    utm_coordinate_system = osr.SpatialReference()\n",
    "    utm_coordinate_system.SetWellKnownGeogCS(\"WGS84\") # Set geographic coordinate system to handle lat/lon\n",
    "    is_northern = northing > 0    \n",
    "    utm_coordinate_system.SetUTM(zone, is_northern)\n",
    "\n",
    "    wgs84_coordinate_system = utm_coordinate_system.CloneGeogCS() # Clone ONLY the geographic coordinate system \n",
    "\n",
    "    # create transform component\n",
    "    utm_to_wgs84_transform = osr.CoordinateTransformation(utm_coordinate_system, wgs84_coordinate_system) # (<from>, <to>)\n",
    "    return utm_to_wgs84_transform.TransformPoint(easting, northing, 0) # returns lon, lat, altitude"
   ]
  },
  {
   "cell_type": "markdown",
   "metadata": {},
   "source": [
    "print (pyproj)\n",
    "\n",
    "ED50_x = 744237\n",
    "ED50_y = 4303195\n",
    "ETRS89_x, ETRS89_y = pyproj.transform(ED50_UTM30N, ETRS89_UTM30N, ED50_x, ED50_y)\n",
    " "
   ]
  },
  {
   "cell_type": "code",
   "execution_count": 5,
   "metadata": {},
   "outputs": [
    {
     "name": "stdout",
     "output_type": "stream",
     "text": [
      "conversion ok\n",
      "es un cafe\n"
     ]
    }
   ],
   "source": [
    "def writeMongo(row):\n",
    "    print (row)\n",
    "    \n",
    "def conversion(old):\n",
    "    #\"40°29'21.84'' N\"\n",
    "    grados, minutos, segundos, direction = re.split(u'[°\\'\"\\s]+',old)\n",
    "    #print ('-'.join ([grados,minutos,segundos]))\n",
    "    factor = {'N':1, 'S':-1, 'E': 1, 'W':-1}\n",
    "    res= (int(grados)+int(minutos)/60.0+float(segundos)/3600.0) * factor[direction]\n",
    "    return round(res,7)\n",
    "latLon = conversion (\"78°55'44.295'' N\")\n",
    "if 78.9289708 == latLon :\n",
    "    print (\"conversion ok\")\n",
    "else:\n",
    "    print (latLon)\n",
    "\n",
    "from unidecode import unidecode\n",
    "\n",
    "def delStopWords(text):\n",
    "    words = text.split (' ')\n",
    "    res=[]\n",
    "    for word in words:\n",
    "        if not word in stopWords:\n",
    "            res.append(word)\n",
    "    return ' '.join(res)\n",
    "    \n",
    "\n",
    "def normalize(cadena):\n",
    "    res = unidecode(cadena.lower())\n",
    "    res = re.sub(r'\\s\\s+', ' ', res)\n",
    "    return delStopWords (res)\n",
    "\n",
    "\n",
    "string_acentos = 'Ës un cáfÉ'\n",
    "\n",
    "print (normalize(string_acentos))\n",
    "\n"
   ]
  },
  {
   "cell_type": "code",
   "execution_count": 6,
   "metadata": {},
   "outputs": [
    {
     "name": "stdout",
     "output_type": "stream",
     "text": [
      "total registros: 8443\n"
     ]
    }
   ],
   "source": [
    "jsonCallejero = open ('data/Callejero.json','w')\n",
    "\n",
    "i=0\n",
    "\n",
    "with open ('data/CallejeroUtf8.csv') as fCallejero:\n",
    "        reader = csv.DictReader(fCallejero, delimiter=';')\n",
    "        street = {'source':'callejero'}\n",
    "        for row in reader:\n",
    "            name = row['VIA_CLASE']+' '+\\\n",
    "                   (\"\" if len(row['VIA_PAR'])==0 else row['VIA_PAR']+' ') +\\\n",
    "                   row['VIA_NOMBRE']\n",
    "            name = normalize(name)\n",
    "            if not 'name' in street:\n",
    "                street['name']= name\n",
    "                street['nums']= []\n",
    "            elif street['name'] != name:\n",
    "                json.dump(street,jsonCallejero)\n",
    "                jsonCallejero.write('\\n')\n",
    "                i+=1\n",
    "                street = {'source':'callejero'}\n",
    "                street['name']=name\n",
    "                street['nums']= []\n",
    "            \n",
    "            \"\"\" Miramos si 'num' ya existe en nums para los kilómetros de las carreteras,\n",
    "                porque viene el del sentido de entrada y de salida, solo guardamos el de entrada\n",
    "            \"\"\"\n",
    "            if (len(street['nums'])==0) or (row['NUMERO'] != street['nums'][-1]['num']) :\n",
    "                num = {'num':int(row['NUMERO']), \"location\":{'type':'Point',\n",
    "                                                        'coordinates':[ conversion(row['LONGITUD']),\n",
    "                                                                        conversion(row['LATITUD'])]}}\n",
    "                street['nums'].append(num)\n",
    "        json.dump(street,jsonCallejero)\n",
    "        jsonCallejero.write('\\n')\n",
    "        i+=1\n",
    "        fCallejero.close()\n",
    "        jsonCallejero.close()\n",
    "        \n",
    "        print ('total registros: {}'.format(i))\n",
    "        "
   ]
  },
  {
   "cell_type": "markdown",
   "metadata": {},
   "source": [
    "Para la práctica se ha creado un cluster con cuenta gratuita en el servidor mongodb Atlas https://cloud.mongodb.com\n",
    "\n",
    "Con el fichero recultante de paso anterior lo importamos a Mongo en una instancia en Cloud de mongoDB.Atlas\n",
    "```bash \n",
    "mongoimport --uri \"mongodb+srv://sparkUser:<pass>@cluster0-emtpq.mongodb.net/test\" --collection Callejero --drop --file Callejero.json\n",
    "    \n",
    "2019-04-24T16:21:39.496+0200    connected to: localhost\n",
    "2019-04-24T16:21:39.535+0200    dropping: test.callejero\n",
    "2019-04-24T16:21:42.154+0200    [########................] test.callejero       5.76MB/15.6MB (37.0%)\n",
    "2019-04-24T16:21:45.155+0200    [####################....] test.callejero       13.3MB/15.6MB (85.3%)\n",
    "2019-04-24T16:21:46.217+0200    [########################] test.callejero       15.6MB/15.6MB (100.0%)\n",
    "2019-04-24T16:21:46.217+0200    imported 8443 documents\n",
    "```\n",
    "\n",
    "Posteriomente, mediante las utilidades de administración de la plataforma creamos un índice por el campo 'name' de tipo texto."
   ]
  },
  {
   "cell_type": "markdown",
   "metadata": {},
   "source": [
    "Los registros en la colección test.callejero tienen el siguiente formato:\n",
    "```json\n",
    "{\n",
    "\"_id\":{\"$oid\":\"5cc070f406ee493b07be37d2\"},\n",
    "\"name\":\"calle de la abadesa\",\n",
    "\"source\":\"callejero\",\n",
    "\"nums\":[\n",
    "   {\"num\":1,\"location\":{\"type\":\"Point\",\n",
    "                          \"coordinates\":[{\"$numberDouble\":\"-3.7145222\"},{\"$numberDouble\":\"40.4645222\"}]}},\n",
    "   {\"num\":3,\"location\":{\"type\":\"Point\",\n",
    "                          \"coordinates\":[{\"$numberDouble\":\"-3.7145778\"},{\"$numberDouble\":\"40.4645778\"}]}},\n",
    "   {\"num\":5,\"location\":{\"type\":\"Point\",\n",
    "                          \"coordinates\":[{\"$numberDouble\":\"-3.7147167\"},{\"$numberDouble\":\"40.4647167\"}]}},\n",
    "    ...\n",
    "}\n",
    "```\n",
    "\n",
    "Hay que remarcar que el campo \"location\" es del tipo geoJson. Con el se harán cálculos de distancias para la geolocalización de las esquinas entre calles."
   ]
  },
  {
   "cell_type": "code",
   "execution_count": null,
   "metadata": {},
   "outputs": [],
   "source": []
  }
 ],
 "metadata": {
  "kernelspec": {
   "display_name": "Python 3",
   "language": "python",
   "name": "python3"
  },
  "language_info": {
   "codemirror_mode": {
    "name": "ipython",
    "version": 3
   },
   "file_extension": ".py",
   "mimetype": "text/x-python",
   "name": "python",
   "nbconvert_exporter": "python",
   "pygments_lexer": "ipython3",
   "version": "3.7.3"
  }
 },
 "nbformat": 4,
 "nbformat_minor": 2
}
