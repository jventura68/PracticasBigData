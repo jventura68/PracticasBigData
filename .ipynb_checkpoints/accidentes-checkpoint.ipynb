{
 "cells": [
  {
   "cell_type": "code",
   "execution_count": 142,
   "metadata": {},
   "outputs": [
    {
     "name": "stdout",
     "output_type": "stream",
     "text": [
      "SparkContext created\n"
     ]
    }
   ],
   "source": [
    "import pyspark\n",
    "from pyspark.sql import SparkSession\n",
    "app_name = \"bubbly\"\n",
    "master = \"local[*]\"\n",
    "spark = (SparkSession.builder\n",
    "    .master(master)\n",
    "    .config(\"spark.driver.cores\", 1)\n",
    "    .appName(app_name)\n",
    "    .getOrCreate() )\n",
    "sc = spark.sparkContext\n",
    "print ('SparkContext created')"
   ]
  },
  {
   "cell_type": "code",
   "execution_count": 143,
   "metadata": {},
   "outputs": [],
   "source": [
    "from pyspark.sql.types import StructType, StructField, IntegerType, DateType, StringType\n",
    "\n",
    "accidenteSchema = StructType ([\n",
    "    StructField(\"Index\", IntegerType(), True),\n",
    "    StructField(\"FECHA\", DateType(), True),\n",
    "    StructField(\"RANGO HORARIO\", StringType(), True),\n",
    "    StructField(\"DIA SEMANA\", StringType(), True),\n",
    "    StructField(\"DISTRITO\", StringType(), True),\n",
    "    StructField(\"LUGAR ACCIDENTE\", StringType(), True),\n",
    "    StructField(\"Nº\", StringType(), True),\n",
    "    StructField(\"Nº PARTE\", StringType(), True),\n",
    "    StructField(\"CPFA Granizo\", StringType(), True),\n",
    "    StructField(\"CPFA Hielo\", StringType(), True),\n",
    "    StructField(\"CPFA Lluvia\", StringType(), True),\n",
    "    StructField(\"CPFA Niebla\", StringType(), True),\n",
    "    StructField(\"CPFA Seco\", StringType(), True),\n",
    "    StructField(\"CPFA Nieve\", StringType(), True),\n",
    "    StructField(\"CPSV Mojada\", StringType(), True),\n",
    "    StructField(\"CPSV Aceite\", StringType(), True),\n",
    "    StructField(\"CPSV Barro\", StringType(), True),\n",
    "    StructField(\"CPSV Grava Suelta\", StringType(), True),\n",
    "    StructField(\"CPSV Hielo\", StringType(), True),\n",
    "    StructField(\"CPSV Seca Y Limpia\", StringType(), True),\n",
    "    StructField(\"* Nº VICTIMAS\", IntegerType(), True),\n",
    "    StructField(\"TIPO ACCIDENTE\", StringType(), True),\n",
    "    StructField(\"Tipo Vehiculo\", StringType(), True),\n",
    "    StructField(\"TIPO PERSONA\", StringType(), True),\n",
    "    StructField(\"SEXO\", StringType(), True),\n",
    "    StructField(\"LESIVIDAD\", StringType(), True),\n",
    "    StructField(\"Tramo Edad\", StringType(), True)])\n",
    "\n",
    "accidenteData = spark.read.csv ('hdfs://localhost:9000/user/ubuntu/accidentes/2018.csv',header=True)#,schema=accidenteSchema)\n",
    "#accidenteData = spark.read.csv ('file:///home/ubuntu/Downloads/2018_Accidentalidad.csv',header=True,sep=\",\",schema=accidenteSchema)\n",
    "#hdfs://localhost:9000/users/ubuntu/accidentes/2018.csv\n",
    "\n",
    "#accidenteData = spark.read.format(\"csv\")\\\n",
    "#             .option(\"delimiter\",\",\")\\\n",
    "#             .option(\"header\", \"true\")\\\n",
    "#             .schema(accidenteSchema)\\\n",
    "#             .option(\"quote\",\"\")\\\n",
    "#             .load('file:///home/ubuntu/Downloads/2018_Accidentalidad.csv')\n"
   ]
  },
  {
   "cell_type": "code",
   "execution_count": 144,
   "metadata": {
    "scrolled": false
   },
   "outputs": [
    {
     "name": "stdout",
     "output_type": "stream",
     "text": [
      "root\n",
      " |-- FECHA: string (nullable = true)\n",
      " |-- RANGO HORARIO: string (nullable = true)\n",
      " |-- DIA SEMANA: string (nullable = true)\n",
      " |-- DISTRITO: string (nullable = true)\n",
      " |-- LUGAR ACCIDENTE: string (nullable = true)\n",
      " |-- Nº: string (nullable = true)\n",
      " |-- Nº PARTE: string (nullable = true)\n",
      " |-- CPFA Granizo: string (nullable = true)\n",
      " |-- CPFA Hielo: string (nullable = true)\n",
      " |-- CPFA Lluvia: string (nullable = true)\n",
      " |-- CPFA Niebla: string (nullable = true)\n",
      " |-- CPFA Seco: string (nullable = true)\n",
      " |-- CPFA Nieve: string (nullable = true)\n",
      " |-- CPSV Mojada: string (nullable = true)\n",
      " |-- CPSV Aceite: string (nullable = true)\n",
      " |-- CPSV Barro: string (nullable = true)\n",
      " |-- CPSV Grava Suelta: string (nullable = true)\n",
      " |-- CPSV Hielo: string (nullable = true)\n",
      " |-- CPSV Seca Y Limpia: string (nullable = true)\n",
      " |-- * Nº VICTIMAS: string (nullable = true)\n",
      " |-- TIPO ACCIDENTE: string (nullable = true)\n",
      " |-- Tipo Vehiculo: string (nullable = true)\n",
      " |-- TIPO PERSONA: string (nullable = true)\n",
      " |-- SEXO: string (nullable = true)\n",
      " |-- LESIVIDAD: string (nullable = true)\n",
      " |-- Tramo Edad: string (nullable = true)\n",
      "\n"
     ]
    }
   ],
   "source": [
    "accidenteData.printSchema()\n",
    "#accidenteData.show()"
   ]
  },
  {
   "cell_type": "code",
   "execution_count": 173,
   "metadata": {},
   "outputs": [],
   "source": [
    "import pyspark.sql.functions as func\n",
    "\n",
    "accRed=accidenteData.select(\n",
    "        func.substring(accidenteData.LESIVIDAD,1,2).alias('lesividad'), \\\n",
    "        accidenteData[\"DIA SEMANA\"].alias('diaStr'), \\\n",
    "        accidenteData.DISTRITO.alias('distrito'), \\\n",
    "        accidenteData['* Nº VICTIMAS'].cast(IntegerType()).alias('victimas')\n",
    ")\n",
    "\n",
    "accPorDia=accRed.filter(accRed.lesividad != \"IL\")\\\n",
    "                .groupBy('diaStr','distrito')\\\n",
    "                .agg(func.sum('victimas')\\\n",
    "                .alias('TotalVictimas'))"
   ]
  },
  {
   "cell_type": "code",
   "execution_count": 174,
   "metadata": {},
   "outputs": [],
   "source": [
    "accPorDia = accPorDia.withColumn(\"NumDia\",func.when(accPorDia.diaStr == 'LUNES',1)\n",
    "                                                 .when(accPorDia.diaStr == 'MARTES',2)\n",
    "                                                 .when(accPorDia.diaStr == 'MIERCOLES',3)\n",
    "                                                 .when(accPorDia.diaStr == 'JUEVES',4)\n",
    "                                                 .when(accPorDia.diaStr == 'VIERNES',5)\n",
    "                                                 .when(accPorDia.diaStr == 'SABADO',6)\n",
    "                                                 .otherwise(7)).orderBy('NumDia')\n"
   ]
  },
  {
   "cell_type": "code",
   "execution_count": 175,
   "metadata": {},
   "outputs": [
    {
     "name": "stdout",
     "output_type": "stream",
     "text": [
      "root\n",
      " |-- diaStr: string (nullable = true)\n",
      " |-- distrito: string (nullable = true)\n",
      " |-- TotalVictimas: long (nullable = true)\n",
      " |-- NumDia: integer (nullable = false)\n",
      "\n",
      "+------+--------------------+-------------+------+\n",
      "|diaStr|            distrito|TotalVictimas|NumDia|\n",
      "+------+--------------------+-------------+------+\n",
      "| LUNES|SAN BLAS         ...|            1|     1|\n",
      "| LUNES|USERA            ...|            1|     1|\n",
      "| LUNES|CHAMARTIN        ...|            1|     1|\n",
      "| LUNES|CENTRO           ...|            4|     1|\n",
      "| LUNES|MORATALAZ        ...|            1|     1|\n",
      "| LUNES|FUENCARRAL-EL PAR...|            4|     1|\n",
      "| LUNES|CIUDAD LINEAL    ...|            9|     1|\n",
      "| LUNES|SALAMANCA        ...|            4|     1|\n",
      "| LUNES|ARGANZUELA       ...|            1|     1|\n",
      "| LUNES|HORTALEZA        ...|            1|     1|\n",
      "| LUNES|CARABANCHEL      ...|            1|     1|\n",
      "| LUNES|RETIRO           ...|            4|     1|\n",
      "|MARTES|CHAMARTIN        ...|            1|     2|\n",
      "|MARTES|MORATALAZ        ...|            1|     2|\n",
      "|MARTES|TETUAN           ...|            2|     2|\n",
      "|MARTES|SALAMANCA        ...|            8|     2|\n",
      "|MARTES|FUENCARRAL-EL PAR...|            1|     2|\n",
      "|MARTES|ARGANZUELA       ...|            3|     2|\n",
      "|MARTES|SAN BLAS         ...|            2|     2|\n",
      "|MARTES|VILLA DE VALLECAS...|           16|     2|\n",
      "+------+--------------------+-------------+------+\n",
      "only showing top 20 rows\n",
      "\n"
     ]
    }
   ],
   "source": [
    "#accPorDiaNum = accPorDia.withColumn(\"NumDia\",diasSemana[accPorDia['DIA SEMANA']])\n",
    "accPorDia.printSchema()\n",
    "accPorDia.show()\n"
   ]
  },
  {
   "cell_type": "code",
   "execution_count": null,
   "metadata": {},
   "outputs": [],
   "source": [
    "from plotty.offline import plot\n",
    "from bubbly.bubbly import bubbleplot \n",
    "import pandas as pd\n",
    "\n",
    "figure = bubbleplot(dataset=accPordia, x_column='diaStr', y_column='', \n",
    "    bubble_column='country', time_column='year', size_column='pop', color_column='continent', \n",
    "    x_title=\"GDP per Capita\", y_title=\"Life Expectancy\", title='Gapminder Global Indicators',\n",
    "    x_logscale=True, scale_bubble=3, height=650)\n",
    "\n",
    "#iplot(figure, config={'scrollzoom': True})\n",
    "iplot(figure)"
   ]
  },
  {
   "cell_type": "code",
   "execution_count": 68,
   "metadata": {},
   "outputs": [],
   "source": [
    "#accPorDiaNum.write.csv('hdfs://localhost:9000/user/ubuntu/accidentes/NumVic_DiaSemana.csv')\n",
    "accPorDiaNum.write.csv('file:///home/ubuntu/Downloads/NumAcc_DiaSemana')"
   ]
  },
  {
   "cell_type": "code",
   "execution_count": 171,
   "metadata": {},
   "outputs": [],
   "source": [
    "accPorDiaNum.toPandas().to_csv('/home/ubuntu/Downloads/acc_diaSemana.csv',sep=';')"
   ]
  },
  {
   "cell_type": "code",
   "execution_count": null,
   "metadata": {},
   "outputs": [],
   "source": []
  }
 ],
 "metadata": {
  "kernelspec": {
   "display_name": "Python 3",
   "language": "python",
   "name": "python3"
  },
  "language_info": {
   "codemirror_mode": {
    "name": "ipython",
    "version": 3
   },
   "file_extension": ".py",
   "mimetype": "text/x-python",
   "name": "python",
   "nbconvert_exporter": "python",
   "pygments_lexer": "ipython3",
   "version": "3.7.1"
  }
 },
 "nbformat": 4,
 "nbformat_minor": 2
}
