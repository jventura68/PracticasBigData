{
 "cells": [
  {
   "cell_type": "code",
   "execution_count": 2,
   "metadata": {},
   "outputs": [
    {
     "name": "stdout",
     "output_type": "stream",
     "text": [
      "SparkContext created\n"
     ]
    }
   ],
   "source": [
    "import pyspark\n",
    "from pyspark.sql import SparkSession\n",
    "app_name = \"bubbly\"\n",
    "master = \"local[*]\"\n",
    "spark = (SparkSession.builder\n",
    "    .master(master)\n",
    "    .config(\"spark.driver.cores\", 1)\n",
    "    .appName(app_name)\n",
    "    .getOrCreate() )\n",
    "sc = spark.sparkContext\n",
    "print ('SparkContext created')"
   ]
  },
  {
   "cell_type": "code",
   "execution_count": 22,
   "metadata": {},
   "outputs": [],
   "source": [
    "#from pyspark.sql.types import StructType, StructField, IntegerType, DateType, StringType\n",
    "\n",
    "accidenteSchema = StructType ([\n",
    "    StructField(\"_c0\", IntegerType(), True),\n",
    "    StructField(\"FECHA\", DateType(), True),\n",
    "    StructField(\"RANGO HORARIO\", StringType(), True),\n",
    "    StructField(\"DIA SEMANA\", StringType(), True),\n",
    "    StructField(\"DISTRITO\", StringType(), True),\n",
    "    StructField(\"LUGAR ACCIDENTE\", StringType(), True),\n",
    "    StructField(\"Nº\", StringType(), True),\n",
    "    StructField(\"Nº PARTE\", StringType(), True),\n",
    "    StructField(\"CPFA Granizo\", StringType(), True),\n",
    "    StructField(\"CPFA Hielo\", StringType(), True),\n",
    "    StructField(\"CPFA Lluvia\", StringType(), True),\n",
    "    StructField(\"CPFA Niebla\", StringType(), True),\n",
    "    StructField(\"CPFA Seco\", StringType(), True),\n",
    "    StructField(\"CPFA Nieve\", StringType(), True),\n",
    "    StructField(\"CPSV Mojada\", StringType(), True),\n",
    "    StructField(\"CPSV Aceite\", StringType(), True),\n",
    "    StructField(\"CPSV Barro\", StringType(), True),\n",
    "    StructField(\"CPSV Grava Suelta\", StringType(), True),\n",
    "    StructField(\"CPSV Hielo\", StringType(), True),\n",
    "    StructField(\"CPSV Seca Y Limpia\", StringType(), True),\n",
    "    StructField(\"* Nº VICTIMAS\", IntegerType(), True),\n",
    "    StructField(\"TIPO ACCIDENTE\", StringType(), True),\n",
    "    StructField(\"Tipo Vehiculo\", StringType(), True),\n",
    "    StructField(\"TIPO PERSONA\", StringType(), True),\n",
    "    StructField(\"SEXO\", StringType(), True),\n",
    "    StructField(\"LESIVIDAD\", StringType(), True),\n",
    "    StructField(\"Tramo Edad\", StringType(), True)])\n",
    "accidenteData = spark.read.csv ('/home/jose/tmp/2018.csv',header=True,schema=accidenteSchema)\n"
   ]
  },
  {
   "cell_type": "code",
   "execution_count": 25,
   "metadata": {},
   "outputs": [],
   "source": [
    "from bubbly.bubbly import bubbleplot \n",
    "from plotly.offline import iplot, plot\n"
   ]
  },
  {
   "cell_type": "code",
   "execution_count": 31,
   "metadata": {},
   "outputs": [],
   "source": [
    "import pyspark.sql.functions as func\n",
    "accPorDia=accidenteData.groupBy('DIA SEMANA').agg(func.count('* Nº VICTIMAS').alias('TotalVictimas'))"
   ]
  },
  {
   "cell_type": "code",
   "execution_count": 32,
   "metadata": {},
   "outputs": [
    {
     "name": "stdout",
     "output_type": "stream",
     "text": [
      "+----------+-------------+\n",
      "|DIA SEMANA|TotalVictimas|\n",
      "+----------+-------------+\n",
      "|   VIERNES|         5308|\n",
      "|   DOMINGO|         3211|\n",
      "|    JUEVES|         4480|\n",
      "|     LUNES|         4430|\n",
      "|    SABADO|         3463|\n",
      "|    MARTES|         4570|\n",
      "| MIERCOLES|         4660|\n",
      "+----------+-------------+\n",
      "\n"
     ]
    }
   ],
   "source": [
    "accPorDia.show()"
   ]
  },
  {
   "cell_type": "code",
   "execution_count": 26,
   "metadata": {},
   "outputs": [
    {
     "ename": "TypeError",
     "evalue": "'Column' object is not callable",
     "output_type": "error",
     "traceback": [
      "\u001b[0;31m-------------------------------------------------------------\u001b[0m",
      "\u001b[0;31mTypeError\u001b[0m                   Traceback (most recent call last)",
      "\u001b[0;32m<ipython-input-26-f51977ba3400>\u001b[0m in \u001b[0;36m<module>\u001b[0;34m\u001b[0m\n\u001b[1;32m      3\u001b[0m     \u001b[0mbubble_column\u001b[0m\u001b[0;34m=\u001b[0m\u001b[0;34m'TIPO ACCIDENTE'\u001b[0m\u001b[0;34m,\u001b[0m \u001b[0mtime_column\u001b[0m\u001b[0;34m=\u001b[0m\u001b[0;34m'DIA SEMANA'\u001b[0m\u001b[0;34m,\u001b[0m \u001b[0msize_column\u001b[0m\u001b[0;34m=\u001b[0m\u001b[0;34m'* Nº VICTIMAS'\u001b[0m\u001b[0;34m,\u001b[0m \u001b[0mcolor_column\u001b[0m\u001b[0;34m=\u001b[0m\u001b[0;34m'LESIVIDAD'\u001b[0m\u001b[0;34m,\u001b[0m\u001b[0;34m\u001b[0m\u001b[0;34m\u001b[0m\u001b[0m\n\u001b[1;32m      4\u001b[0m     \u001b[0mx_title\u001b[0m\u001b[0;34m=\u001b[0m\u001b[0;34m\"Tramo de Edad\"\u001b[0m\u001b[0;34m,\u001b[0m \u001b[0my_title\u001b[0m\u001b[0;34m=\u001b[0m\u001b[0;34m\"Rango Horario\"\u001b[0m\u001b[0;34m,\u001b[0m \u001b[0mtitle\u001b[0m\u001b[0;34m=\u001b[0m\u001b[0;34m'Accidentes 2018 timelapsed - dia semana'\u001b[0m\u001b[0;34m,\u001b[0m\u001b[0;34m\u001b[0m\u001b[0;34m\u001b[0m\u001b[0m\n\u001b[0;32m----> 5\u001b[0;31m     x_logscale=True, scale_bubble=3, height=650)\n\u001b[0m\u001b[1;32m      6\u001b[0m \u001b[0;34m\u001b[0m\u001b[0m\n\u001b[1;32m      7\u001b[0m \u001b[0mplot\u001b[0m\u001b[0;34m(\u001b[0m\u001b[0mfigure\u001b[0m\u001b[0;34m)\u001b[0m\u001b[0;34m\u001b[0m\u001b[0;34m\u001b[0m\u001b[0m\n",
      "\u001b[0;32m~/anaconda3/lib/python3.7/site-packages/bubbly/bubbly.py\u001b[0m in \u001b[0;36mbubbleplot\u001b[0;34m(dataset, x_column, y_column, bubble_column, z_column, time_column, size_column, color_column, x_logscale, y_logscale, z_logscale, x_range, y_range, z_range, x_title, y_title, z_title, title, colorbar_title, scale_bubble, colorscale, marker_opacity, marker_border_width, show_slider, show_button, show_colorbar, show_legend, width, height)\u001b[0m\n\u001b[1;32m     22\u001b[0m     \u001b[0;31m# Set the variables for making the grid\u001b[0m\u001b[0;34m\u001b[0m\u001b[0;34m\u001b[0m\u001b[0;34m\u001b[0m\u001b[0m\n\u001b[1;32m     23\u001b[0m     \u001b[0;32mif\u001b[0m \u001b[0mtime_column\u001b[0m\u001b[0;34m:\u001b[0m\u001b[0;34m\u001b[0m\u001b[0;34m\u001b[0m\u001b[0m\n\u001b[0;32m---> 24\u001b[0;31m         \u001b[0myears\u001b[0m \u001b[0;34m=\u001b[0m \u001b[0mdataset\u001b[0m\u001b[0;34m[\u001b[0m\u001b[0mtime_column\u001b[0m\u001b[0;34m]\u001b[0m\u001b[0;34m.\u001b[0m\u001b[0munique\u001b[0m\u001b[0;34m(\u001b[0m\u001b[0;34m)\u001b[0m\u001b[0;34m\u001b[0m\u001b[0;34m\u001b[0m\u001b[0m\n\u001b[0m\u001b[1;32m     25\u001b[0m     \u001b[0;32melse\u001b[0m\u001b[0;34m:\u001b[0m\u001b[0;34m\u001b[0m\u001b[0;34m\u001b[0m\u001b[0m\n\u001b[1;32m     26\u001b[0m         \u001b[0myears\u001b[0m \u001b[0;34m=\u001b[0m \u001b[0;32mNone\u001b[0m\u001b[0;34m\u001b[0m\u001b[0;34m\u001b[0m\u001b[0m\n",
      "\u001b[0;31mTypeError\u001b[0m: 'Column' object is not callable"
     ]
    }
   ],
   "source": [
    "\n",
    "figure = bubbleplot(dataset=accidenteData, x_column='Tramo Edad', y_column='RANGO HORARIO', \n",
    "    bubble_column='TIPO ACCIDENTE', time_column='DIA SEMANA', size_column='* Nº VICTIMAS', color_column='LESIVIDAD', \n",
    "    x_title=\"Tramo de Edad\", y_title=\"Rango Horario\", title='Accidentes 2018 timelapsed - dia semana',\n",
    "    x_logscale=True, scale_bubble=3, height=650)\n",
    "\n",
    "plot(figure)\n"
   ]
  },
  {
   "cell_type": "code",
   "execution_count": 7,
   "metadata": {},
   "outputs": [
    {
     "name": "stdout",
     "output_type": "stream",
     "text": [
      "None\n"
     ]
    }
   ],
   "source": [
    "print (header[0])"
   ]
  },
  {
   "cell_type": "code",
   "execution_count": null,
   "metadata": {},
   "outputs": [],
   "source": []
  }
 ],
 "metadata": {
  "kernelspec": {
   "display_name": "Python 3",
   "language": "python",
   "name": "python3"
  },
  "language_info": {
   "codemirror_mode": {
    "name": "ipython",
    "version": 3
   },
   "file_extension": ".py",
   "mimetype": "text/x-python",
   "name": "python",
   "nbconvert_exporter": "python",
   "pygments_lexer": "ipython3",
   "version": "3.7.1"
  }
 },
 "nbformat": 4,
 "nbformat_minor": 2
}
